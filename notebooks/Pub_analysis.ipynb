{
 "cells": [
  {
   "cell_type": "code",
   "execution_count": null,
   "id": "0301f711-b1c0-45fb-a5a6-1b4106cb69b9",
   "metadata": {},
   "outputs": [],
   "source": [
    "# Analyses related to <doi>"
   ]
  },
  {
   "cell_type": "markdown",
   "id": "0457733f-472c-4488-aee0-3eea7d0c250f",
   "metadata": {},
   "source": [
    "# GenomeScope"
   ]
  },
  {
   "cell_type": "markdown",
   "id": "7d9c7935-2536-4d45-b044-267fa8b34860",
   "metadata": {},
   "source": [
    "## 1. gunzip fastq.gz files"
   ]
  },
  {
   "cell_type": "code",
   "execution_count": null,
   "id": "8f35bf5e-7f77-4e97-9106-9c1bbcd85ae8",
   "metadata": {},
   "outputs": [],
   "source": [
    "%%bash\n",
    "cd /data/Glon_RNAseq/fastq/\n",
    "for file in *.fastq.gz; do gunzip -k \"$file\"; done"
   ]
  },
  {
   "cell_type": "markdown",
   "id": "a683589b-97ca-4950-9c16-721bb7b0c908",
   "metadata": {},
   "source": [
    "## 2. Run jellyfish\n"
   ]
  },
  {
   "cell_type": "code",
   "execution_count": null,
   "id": "57889b91-8a76-4800-811e-44fabc952170",
   "metadata": {},
   "outputs": [],
   "source": [
    "%%bash\n",
    "cd /data/Glon_RNAseq\n",
    "./software/jellyfish-linux count -C -m 21 -s 5000000000 -t 12 decompressed/*.fastq -o scope/reads.jf\n",
    "./software/jellyfish-linux count -C -m 25 -s 5000000000 -t 15 decompressed/*.fastq -o scope/reads2.jf"
   ]
  },
  {
   "cell_type": "code",
   "execution_count": 2,
   "id": "5b7f4c2f-f52c-433e-9341-d170f2c19c1f",
   "metadata": {},
   "outputs": [],
   "source": [
    "%%bash\n",
    "# export k-mer count histogram\n",
    "cd /data/Glon_RNAseq/scope\n",
    "./../software/jellyfish-linux histo -h 1000000 -t 15 reads.jf > reads.histo"
   ]
  },
  {
   "cell_type": "markdown",
   "id": "47513821-bee1-43f0-bdde-ee670b573d48",
   "metadata": {},
   "source": [
    "## 3. Use GenomeScope"
   ]
  },
  {
   "cell_type": "code",
   "execution_count": null,
   "id": "b6e688f1-9012-4c70-8106-63bb9765fc45",
   "metadata": {},
   "outputs": [],
   "source": [
    "# http://qb.cshl.edu/genomescope/\n",
    "http://qb.cshl.edu/genomescope/analysis.php?code=Ok8NdMEC03hnUvWynZH5\n",
    "http://qb.cshl.edu/genomescope/analysis.php?code=cNlreHarsZ0B9oblnCEN\n"
   ]
  },
  {
   "cell_type": "markdown",
   "id": "394f51c8-203d-4d03-8cc0-7c2bc51f97a6",
   "metadata": {},
   "source": [
    "# BBtools stats.sh (genome comparisons) + BUSCO"
   ]
  },
  {
   "cell_type": "code",
   "execution_count": null,
   "id": "ec8fba9b-d940-44c0-89ce-95bdd8a846a9",
   "metadata": {},
   "outputs": [],
   "source": []
  },
  {
   "cell_type": "markdown",
   "id": "ae88b121-8346-436b-89d8-8dd104324db3",
   "metadata": {},
   "source": [
    "# BUSCO annotation comparison"
   ]
  },
  {
   "cell_type": "code",
   "execution_count": null,
   "id": "5acab677-b69a-454f-9143-01b0cbc9e915",
   "metadata": {},
   "outputs": [],
   "source": []
  },
  {
   "cell_type": "code",
   "execution_count": null,
   "id": "07add545-505f-465c-8ecb-b92abccc6612",
   "metadata": {},
   "outputs": [],
   "source": []
  }
 ],
 "metadata": {
  "kernelspec": {
   "display_name": "Python 3 (ipykernel)",
   "language": "python",
   "name": "python3"
  },
  "language_info": {
   "codemirror_mode": {
    "name": "ipython",
    "version": 3
   },
   "file_extension": ".py",
   "mimetype": "text/x-python",
   "name": "python",
   "nbconvert_exporter": "python",
   "pygments_lexer": "ipython3",
   "version": "3.8.10"
  }
 },
 "nbformat": 4,
 "nbformat_minor": 5
}
