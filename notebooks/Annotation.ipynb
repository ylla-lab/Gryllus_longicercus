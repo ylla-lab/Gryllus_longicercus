{
 "cells": [
  {
   "cell_type": "markdown",
   "id": "2026b9db-4328-440f-94b7-28784b99a6ea",
   "metadata": {},
   "source": [
    "# Structural and functional annotation of Gryllus longicercus"
   ]
  },
  {
   "cell_type": "markdown",
   "id": "7aafdbb9-deba-4807-b87e-588ef0549458",
   "metadata": {},
   "source": [
    "Szymon Szrajer 17-10-23"
   ]
  },
  {
   "cell_type": "markdown",
   "id": "18134d22-808a-41b9-af59-c4f5ae96fdd5",
   "metadata": {},
   "source": [
    "### This notebook consists of 13 steps and covers the analysis for the structural and functional annotation of Gryllus longicercus project."
   ]
  },
  {
   "cell_type": "markdown",
   "id": "8162592e-2aff-4b66-af0d-b3db4bbe8910",
   "metadata": {},
   "source": [
    "## 1. Prepare RNAseq evidence (BAM files)."
   ]
  },
  {
   "cell_type": "markdown",
   "id": "e25a7b01-114c-4d23-8e41-35b2532291a5",
   "metadata": {},
   "source": [
    "RNA-Seq evidence for annotation."
   ]
  },
  {
   "cell_type": "markdown",
   "id": "66dc1094-c005-4352-b6be-f23e6fb971ea",
   "metadata": {},
   "source": [
    "### 1a. Download fastq.gz files"
   ]
  },
  {
   "cell_type": "code",
   "execution_count": null,
   "id": "0ae58b3a-fd6f-4e75-8540-885bc70bf74c",
   "metadata": {},
   "outputs": [],
   "source": [
    "%%bash \n",
    "# download fastq.gz files\n",
    "cd /path_to/fastq\n",
    "wget -O 00_fastq.zip https://www.dropbox.com/<link>"
   ]
  },
  {
   "cell_type": "code",
   "execution_count": null,
   "id": "12b90ae6-85b0-4460-8d79-a5c1e2efc85b",
   "metadata": {},
   "outputs": [],
   "source": [
    "%%bash \n",
    "# unzip fastq.gz folder\n",
    "cd /path_to/fastq\n",
    "unzip 00_fastq.zip"
   ]
  },
  {
   "cell_type": "code",
   "execution_count": null,
   "id": "b511cce7-9780-45bb-b058-f4403e20518f",
   "metadata": {},
   "outputs": [
    {
     "name": "stdout",
     "output_type": "stream",
     "text": [
      "\u001b[0m\u001b[01;32mFB12_R1.fastq.gz\u001b[0m*  \u001b[01;32mFT12_R2.fastq.gz\u001b[0m*   \u001b[01;32mMB11_R1.fastq.gz\u001b[0m*  \u001b[01;32mMT12_R2.fastq.gz\u001b[0m*\n",
      "\u001b[01;32mFB12_R2.fastq.gz\u001b[0m*  \u001b[01;32mFT13_R1.fastq.gz\u001b[0m*   \u001b[01;32mMB11_R2.fastq.gz\u001b[0m*  \u001b[01;32mMT13_R1.fastq.gz\u001b[0m*\n",
      "\u001b[01;32mFB13_R1.fastq.gz\u001b[0m*  \u001b[01;32mFT13_R2.fastq.gz\u001b[0m*   \u001b[01;32mMB12_R1.fastq.gz\u001b[0m*  \u001b[01;32mMT13_R2.fastq.gz\u001b[0m*\n",
      "\u001b[01;32mFB13_R2.fastq.gz\u001b[0m*  \u001b[01;32mFTA11_R1.fastq.gz\u001b[0m*  \u001b[01;32mMB12_R2.fastq.gz\u001b[0m*  \u001b[01;32mMTA11_R1.fastq.gz\u001b[0m*\n",
      "\u001b[01;32mFB4_R1.fastq.gz\u001b[0m*   \u001b[01;32mFTA11_R2.fastq.gz\u001b[0m*  \u001b[01;32mMB13_R1.fastq.gz\u001b[0m*  \u001b[01;32mMTA11_R2.fastq.gz\u001b[0m*\n",
      "\u001b[01;32mFB4_R2.fastq.gz\u001b[0m*   \u001b[01;32mFTA12_R1.fastq.gz\u001b[0m*  \u001b[01;32mMB13_R2.fastq.gz\u001b[0m*  \u001b[01;32mMTA12_R1.fastq.gz\u001b[0m*\n",
      "\u001b[01;32mFT11_R1.fastq.gz\u001b[0m*  \u001b[01;32mFTA12_R2.fastq.gz\u001b[0m*  \u001b[01;32mMT11_R1.fastq.gz\u001b[0m*  \u001b[01;32mMTA12_R2.fastq.gz\u001b[0m*\n",
      "\u001b[01;32mFT11_R2.fastq.gz\u001b[0m*  \u001b[01;32mFTA13_R1.fastq.gz\u001b[0m*  \u001b[01;32mMT11_R2.fastq.gz\u001b[0m*  \u001b[01;32mMTA13_R1.fastq.gz\u001b[0m*\n",
      "\u001b[01;32mFT12_R1.fastq.gz\u001b[0m*  \u001b[01;32mFTA13_R2.fastq.gz\u001b[0m*  \u001b[01;32mMT12_R1.fastq.gz\u001b[0m*  \u001b[01;32mMTA13_R2.fastq.gz\u001b[0m*\n"
     ]
    }
   ],
   "source": [
    "ls /path_to/fastq"
   ]
  },
  {
   "cell_type": "code",
   "execution_count": null,
   "id": "067769d6-a138-46ba-a265-030a621f6027",
   "metadata": {},
   "outputs": [],
   "source": [
    "#count the number of reads"
   ]
  },
  {
   "cell_type": "code",
   "execution_count": null,
   "id": "d64ab292-0a8c-45e4-8e5a-c363d70e769a",
   "metadata": {},
   "outputs": [],
   "source": [
    "%%bash\n",
    "for file in /path_to/fastq/* \n",
    "do\n",
    "    echo $file\n",
    "    zcat $file | wc -l | awk '{print $1/4}'\n",
    "done\n"
   ]
  },
  {
   "cell_type": "markdown",
   "id": "c835804f-325c-4cd8-933b-3344fd277e44",
   "metadata": {
    "tags": []
   },
   "source": [
    "### 1b. Run FastQC"
   ]
  },
  {
   "cell_type": "code",
   "execution_count": null,
   "id": "f7eed4c8-6e82-4615-8fac-0e8b58f0c9eb",
   "metadata": {},
   "outputs": [],
   "source": [
    "%%bash\n",
    "cd /path_to/fastq\n",
    "/path_to/software/FastQC/fastqc -o ../qc_precut -t 30 *gz"
   ]
  },
  {
   "cell_type": "markdown",
   "id": "0bbe7469-81cb-464f-a8d4-a64922b9894c",
   "metadata": {},
   "source": [
    "### 1c. Run Trim Galore!"
   ]
  },
  {
   "cell_type": "code",
   "execution_count": null,
   "id": "3da2c03b-0bb3-4996-883f-621785847551",
   "metadata": {},
   "outputs": [],
   "source": [
    "%%bash\n",
    "cd /path_to/fastq\n",
    "for r1_file in *_R1.fastq.gz; do\n",
    "    # get_ the corresponding R2 file name by replacing \"_R1\" with \"_R2\"\n",
    "    r2_file=${r1_file/_R1/_R2}\n",
    "    \n",
    "    /path_to/software/TrimGalore-0.6.10/trim_galore --paired -j 5 ${r1_file} ${r2_file}\n",
    "\n",
    "    done"
   ]
  },
  {
   "cell_type": "markdown",
   "id": "ebe4ac92-501d-4f11-8bd9-b840c7218d9b",
   "metadata": {},
   "source": [
    "### 1d. Run FastQC\n"
   ]
  },
  {
   "cell_type": "code",
   "execution_count": null,
   "id": "189c9716-c9e7-411c-ab77-06274f3979f6",
   "metadata": {},
   "outputs": [],
   "source": [
    "%%bash\n",
    "cd /path_to/fastq_trim\n",
    "/path_to/software/FastQC/fastqc -o ../qc_postcut -t 30 *gz"
   ]
  },
  {
   "cell_type": "markdown",
   "id": "02a00c61-fc60-4f01-a8da-c526fb4366f6",
   "metadata": {},
   "source": [
    "### 1d. Run HISAT2!"
   ]
  },
  {
   "cell_type": "code",
   "execution_count": null,
   "id": "513d84c0-38d4-44a0-af88-2baf00b12706",
   "metadata": {},
   "outputs": [],
   "source": [
    "%%bash\n",
    "cd /path_to/genomes\n",
    "# build ht2 genome index\n",
    "/path_to/software/hisat2-2.2.1/hisat2-build -p 30 Glon_curated.fasta Glon"
   ]
  },
  {
   "cell_type": "code",
   "execution_count": null,
   "id": "92db9fc8-1bd6-4462-b371-96c468d34e21",
   "metadata": {},
   "outputs": [],
   "source": [
    "%%bash\n",
    "cd /path_to/fastq_trim\n",
    "\n",
    "#!/bin/bash\n",
    "for fileR1 in *_R1_*gz; do\n",
    "  # $file is the absolute path\n",
    "  fileR2=$(echo $fileR1 | sed 's/R1_val_1/R2_val_2/')\n",
    "  sampleR1=$(basename $fileR1 _R1_val_1.fq.gz)\n",
    "  # print the results to stdout\n",
    "  echo \"$sampleR1,$fileR1\"\n",
    "  # here, the --dta flag is necessary to ensure that HISAT2 output can be used in the BRAKER3 pipeline.\n",
    "  /path_to/software/hisat2-2.2.1/hisat2 --dta -q -p 20 -x /path_to/genomes/Glon -1 ${fileR1} -2 ${fileR2} \\\n",
    "    -S /path_to/bam/${sampleR1}.sam &> /path_to/bam/${sampleR1}_summary.txt\n",
    "  /opt/samtools-1.17/samtools view -b /path_to/bam/${sampleR1}.sam  > /path_to/bam/${sampleR1}.bam\n",
    "  rm /path_to/bam/${sampleR1}.sam\n",
    "  done\n"
   ]
  },
  {
   "cell_type": "raw",
   "id": "6edaba64-067e-4e5a-ac0a-937d17eef592",
   "metadata": {},
   "source": [
    "FB12_summary.txt:81.27% overall alignment rate\n",
    "FB13_summary.txt:75.43% overall alignment rate\n",
    "FB4_summary.txt:80.84% overall alignment rate\n",
    "FT11_summary.txt:53.80% overall alignment rate\n",
    "FT12_summary.txt:82.95% overall alignment rate\n",
    "FT13_summary.txt:62.90% overall alignment rate\n",
    "FTA11_summary.txt:62.56% overall alignment rate\n",
    "FTA12_summary.txt:85.86% overall alignment rate\n",
    "FTA13_summary.txt:69.98% overall alignment rate\n",
    "MB11_summary.txt:79.53% overall alignment rate\n",
    "MB12_summary.txt:78.23% overall alignment rate\n",
    "MB13_summary.txt:83.31% overall alignment rate\n",
    "MT11_summary.txt:55.56% overall alignment rate\n",
    "MT12_summary.txt:59.24% overall alignment rate\n",
    "MT13_summary.txt:59.03% overall alignment rate\n",
    "MTA11_summary.txt:64.61% overall alignment rate\n",
    "MTA12_summary.txt:69.10% overall alignment rate\n",
    "MTA13_summary.txt:87.86% overall alignment rate"
   ]
  },
  {
   "cell_type": "markdown",
   "id": "546a42cc-e523-4732-b700-2cb38c874ab7",
   "metadata": {},
   "source": [
    "## 2. Prepare protein evidence."
   ]
  },
  {
   "cell_type": "markdown",
   "id": "7f6e34c8-e518-49d9-aeb1-6a23a86b4298",
   "metadata": {},
   "source": [
    "As for the BRAKER3 team's suggestion, the base protein set for this annotation was a set of 2.1Gb Arthropoda proteins from OrthoDB."
   ]
  },
  {
   "cell_type": "markdown",
   "id": "e02cab81-40f9-4d3a-a407-d9031d210afa",
   "metadata": {},
   "source": [
    "https://bioinf.uni-greifswald.de/bioinf/partitioned_odb11/"
   ]
  },
  {
   "cell_type": "markdown",
   "id": "729e8385-d23c-415e-b733-e13479b9e660",
   "metadata": {},
   "source": [
    "Then we supplemented the database with grylli proteins from NCBI:"
   ]
  },
  {
   "cell_type": "markdown",
   "id": "23215cb0-2d90-4f2c-a97e-7d6cb1ec2e48",
   "metadata": {},
   "source": [
    "- [Gryllus bimaculatus *(25687)](https://www.ncbi.nlm.nih.gov/protein?term=txid6998%5BOrganism%5D#)\n",
    "(((txid6998[Organism]) AND \"Gryllus bimaculatus\"[porgn:__txid6999])) AND PRJDB10609 (*PRJDB10609 is a BioProject)*\n",
    "- [Gryllus pennsylvanicus x Gryllus firmus *(677)*](https://www.ncbi.nlm.nih.gov/protein?term=txid6998%5BOrganism%5D#)\n",
    "- [Gryllus veletis *(98)](https://www.ncbi.nlm.nih.gov/protein?term=txid6998%5BOrganism%5D#)* (txid6998[Organism]) AND \"Gryllus veletis\"[porgn:__txid51040]\n",
    "- [All other taxa *(185)](https://www.ncbi.nlm.nih.gov/protein?term=txid6998%5BOrganism%5D#)* (txid6998[Organism]) NOT \"Gryllus veletis\"[porgn:__txid51040] NOT \"Gryllus pennsylvanicus\"[porgn:__txid51074] NOT \"Gryllus firmus\"[porgn:__txid7000] NOT \"Gryllus pennsylvanicus x Gryllus firmus\"[porgn:__txid658220] NOT \"Gryllus bimaculatus\"[porgn:__txid6999]"
   ]
  },
  {
   "cell_type": "code",
   "execution_count": null,
   "id": "b29a4f84-6917-4c52-819a-d844b89aa14f",
   "metadata": {},
   "outputs": [],
   "source": [
    "%%bash\n",
    "\n",
    "cd /path_to/protein/supplementary # folder with downloaded NCBI sequences\n",
    "cat *fasta > Gryllus_proteins.fasta"
   ]
  },
  {
   "cell_type": "markdown",
   "id": "c8877778-a03d-47bb-b4a2-0850b3ee679b",
   "metadata": {},
   "source": [
    "Before adding NCBI proteins to the OrthoDB database we also made sure that FASTA headers of the proteins don’t cause problems inside Augustus (as they tend to do that). To achieve a similar format to that of OrthoDB, we ran the following:"
   ]
  },
  {
   "cell_type": "code",
   "execution_count": 27,
   "id": "c06b190f-d7ab-4ba1-ade4-c8130f3dc960",
   "metadata": {},
   "outputs": [],
   "source": [
    "def replace_fasta_headers(file_path):\n",
    "    with open(file_path, 'r') as file:\n",
    "        lines = file.readlines()\n",
    "\n",
    "    with open(file_path, 'w') as file:\n",
    "        for line in lines:\n",
    "            if line.strip():  # check if line is not empty\n",
    "                if line.startswith('>'):\n",
    "                    header = line.strip().split()[0][1:]  # extract the first word without '>'\n",
    "                    file.write(f'>{header} {header}\\n')\n",
    "                else:\n",
    "                    file.write(line)\n",
    "\n",
    "\n",
    "file_path = '/path_to/protein/Gryllus_proteins.fasta'\n",
    "replace_fasta_headers(file_path)"
   ]
  },
  {
   "cell_type": "markdown",
   "id": "57341d68-16a1-47eb-b6cb-5a15e4bf5808",
   "metadata": {},
   "source": [
    "Join the protein files together"
   ]
  },
  {
   "cell_type": "code",
   "execution_count": 28,
   "id": "a75e88bd-017d-43ff-8fe6-d053566176b7",
   "metadata": {},
   "outputs": [],
   "source": [
    "%%bash\n",
    "cd /path_to/protein\n",
    "cat Arthropoda.fa Gryllus_proteins.fasta > proteinDB.fasta"
   ]
  },
  {
   "cell_type": "markdown",
   "id": "002de792-93e7-423c-957d-af3df9db0597",
   "metadata": {
    "tags": []
   },
   "source": [
    "## 3. Mask the genome.\n"
   ]
  },
  {
   "cell_type": "markdown",
   "id": "38cd09e8-f509-45dd-98b1-8d60f96d5658",
   "metadata": {},
   "source": [
    "To stop the annotation pipeline from picking up unnecessary signal we have masked the genome."
   ]
  },
  {
   "cell_type": "markdown",
   "id": "3ffce8fc-ec84-4c9e-896a-5773383b4293",
   "metadata": {},
   "source": [
    "### 1a. Using the RepBase library "
   ]
  },
  {
   "cell_type": "code",
   "execution_count": null,
   "id": "052fe752-e845-4195-a452-11467ab03f3b",
   "metadata": {},
   "outputs": [],
   "source": [
    "# run on 10.10.4.125\n",
    "!/path_to/RepeatMasker -pa 20 -small -lib \\\n",
    "/path_to/libraries/RB.lib.fa /path_to/Glon_curated.fasta -gff \\\n",
    "-dir /path_to/soft_repbase/"
   ]
  },
  {
   "cell_type": "markdown",
   "id": "43764d8b-8b01-4f34-9f5c-f3aa01240d30",
   "metadata": {},
   "source": [
    "### 1b. Using Gbim repeat library:"
   ]
  },
  {
   "cell_type": "code",
   "execution_count": null,
   "id": "421f25c9-44ac-44a7-8ffb-a30e55ead597",
   "metadata": {},
   "outputs": [],
   "source": [
    "# run on 10.10.4.125\n",
    "!/path_to/RepeatMasker -pa 20 -small -lib \\\n",
    "/path_to/libraries/Gbi_Rep_CombinedLibrary.lib.minlen50.nr.classified.filtered.fa \\\n",
    "/path_to/Glon_curated.fasta -gff \\\n",
    "-dir /path_to/soft_gbimlib/"
   ]
  },
  {
   "cell_type": "markdown",
   "id": "d68f7c7a-39df-4c94-ad1b-dc0dd5e1e11a",
   "metadata": {},
   "source": [
    "### 2. Check masking with BUSCO"
   ]
  },
  {
   "cell_type": "code",
   "execution_count": 41,
   "id": "c72215ed-8573-4d96-a939-4fd737c29021",
   "metadata": {},
   "outputs": [],
   "source": [
    "%%bash\n",
    "cd /path\n",
    "docker pull ezlabgva/busco:v5.5.0_cv1\n",
    "docker run -u $(id -u) -v $(pwd):/busco_wd ezlabgva/busco:v5.5.0_cv1"
   ]
  },
  {
   "cell_type": "code",
   "execution_count": null,
   "id": "4cea94d8-6398-4c19-8771-9059941b96fe",
   "metadata": {},
   "outputs": [],
   "source": [
    "%%bash\n",
    "cd /path\n",
    "\n",
    "docker run -u $(id -u) -v $(pwd):/busco_wd ezlabgva/busco:v5.5.0_cv1 busco -i /busco_wd/genomes/Glon_curated.fasta -o geno_a --out_path /busco_wd/buscos -m geno --augustus -l arthropoda -c 35 \n",
    "docker run -u $(id -u) -v $(pwd):/busco_wd ezlabgva/busco:v5.5.0_cv1 busco -i /busco_wd/genomes/Glon_curated.fasta -o geno_i --out_path /busco_wd/buscos -m geno --augustus -l insecta -c 35 \n",
    "docker run -u $(id -u) -v $(pwd):/busco_wd ezlabgva/busco:v5.5.0_cv1 busco -i /busco_wd/masking/soft_repbase/Glon_curated.fasta.masked -o rep_a --out_path /busco_wd/buscos -m geno --augustus -l arthropoda -c 35 \n",
    "docker run -u $(id -u) -v $(pwd):/busco_wd ezlabgva/busco:v5.5.0_cv1 busco -i /busco_wd/masking/soft_repbase/Glon_curated.fasta.masked -o rep_i --out_path /busco_wd/buscos -m geno --augustus -l insecta -c 35 \n",
    "docker run -u $(id -u) -v $(pwd):/busco_wd ezlabgva/busco:v5.5.0_cv1 busco -i /busco_wd/masking/soft_gbimlib/Glon_curated.fasta.masked -o gbim_a --out_path /busco_wd/buscos -m geno --augustus -l arthropoda -c 35 \n",
    "docker run -u $(id -u) -v $(pwd):/busco_wd ezlabgva/busco:v5.5.0_cv1 busco -i /busco_wd/masking/soft_gbimlib/Glon_curated.fasta.masked -o gbim_i --out_path /busco_wd/buscos -m geno --augustus -l insecta -c 35 "
   ]
  },
  {
   "cell_type": "markdown",
   "id": "d7f8f9c4-d989-459c-ad3e-7845c920e390",
   "metadata": {},
   "source": [
    "### 3. Transform into a soft masking"
   ]
  },
  {
   "cell_type": "code",
   "execution_count": 59,
   "id": "2577c505-b370-46ab-aaf6-cad62cea7869",
   "metadata": {},
   "outputs": [],
   "source": [
    "!/path_to/software/bedtools2/bin/bedtools maskfasta -soft -fi /path_to/genomes/Glon_curated.fasta \\\n",
    "-bed /path_to/masking/soft_gbimlib/Glon_curated.fasta.out.gff \\\n",
    "-fo /path_to/masking/soft_gbimlib_bed/Glon_soft_masked.fasta"
   ]
  },
  {
   "cell_type": "markdown",
   "id": "38c9f038-c1f0-40de-9be5-28bd4c2d5444",
   "metadata": {},
   "source": [
    "## 4. Run BRAKER3"
   ]
  },
  {
   "cell_type": "markdown",
   "id": "4660ee78-4e2a-4fbb-ae3e-1a5be35df4a2",
   "metadata": {},
   "source": [
    " The structural annotation itself."
   ]
  },
  {
   "cell_type": "markdown",
   "id": "059f914c-f4cd-44d9-944b-f5258ff7c6bc",
   "metadata": {},
   "source": [
    "### 1. BRAKER3 run with Docker"
   ]
  },
  {
   "cell_type": "code",
   "execution_count": null,
   "id": "ca8512a6-a3d7-4765-be75-bca4e5aa53c2",
   "metadata": {},
   "outputs": [],
   "source": [
    "!sudo docker run --user 1000:100 --rm -it \\\n",
    "    -v /path:/home/jovyan/ \\\n",
    "    teambraker/braker3:latest bash -c \\\n",
    "    \"braker.pl --genome=/home/jovyan/masking/soft_gbimlib_bed/Glon_soft_masked.fasta --workingdir=/home/jovyan/annotation --threads=30 --gff3 --prot_seq=/home/jovyan/protein/proteinDB.fasta --bam=/home/jovyan/bam/FB12.bam,/home/jovyan/bam/FB13.bam,/home/jovyan/bam/FB4.bam,/home/jovyan/bam/FT11.bam,/home/jovyan/bam/FT12.bam,/home/jovyan/bam/FT13.bam,/home/jovyan/bam/FTA11.bam,/home/jovyan/bam/FTA12.bam,/home/jovyan/bam/FTA13.bam,/home/jovyan/bam/MB11.bam,/home/jovyan/bam/MB12.bam,/home/jovyan/bam/MB13.bam,/home/jovyan/bam/MT11.bam,/home/jovyan/bam/MT12.bam,/home/jovyan/bam/MT13.bam,/home/jovyan/bam/MTA11.bam,/home/jovyan/bam/MTA12.bam,/home/jovyan/bam/MTA13.bam &> /home/jovyan/annotation/run.log\"\n"
   ]
  },
  {
   "cell_type": "markdown",
   "id": "b16f2989-4a18-47ac-b8e9-7ba2c66a5746",
   "metadata": {},
   "source": [
    "### 2. Check Annotation's BUSCO score"
   ]
  },
  {
   "cell_type": "code",
   "execution_count": 8,
   "id": "7e7d9a02-c64c-422a-9503-35724c5155f1",
   "metadata": {},
   "outputs": [],
   "source": [
    "! gffread /path_to/annotation/braker.gff3 -y /path_to/annotation/Glon_prots.fa -g /path_to/genomes/Glon_curated.fasta"
   ]
  },
  {
   "cell_type": "code",
   "execution_count": null,
   "id": "65400a73-63a0-4ddd-8f22-475f05c90158",
   "metadata": {},
   "outputs": [],
   "source": [
    "%%bash\n",
    "cd /path_to\n",
    "\n",
    "docker run -u $(id -u) -v $(pwd):/busco_wd ezlabgva/busco:v5.5.0_cv1 busco -i /busco_wd/annotation/Glon_prots.fa -o prot_a --out_path /busco_wd/buscos -m protein --augustus -l arthropoda -c 35 \n",
    "docker run -u $(id -u) -v $(pwd):/busco_wd ezlabgva/busco:v5.5.0_cv1 busco -i /busco_wd/annotation/Glon_prots.fa -o prot_i --out_path /busco_wd/buscos -m protein --augustus -l insecta -c 35"
   ]
  },
  {
   "cell_type": "markdown",
   "id": "f4726597-53db-4b6e-9314-051460d4d649",
   "metadata": {},
   "source": [
    "## 5. BLAST functional annotation"
   ]
  },
  {
   "cell_type": "markdown",
   "id": "efd506bf-742a-4388-a15a-05a0a240e6ae",
   "metadata": {},
   "source": [
    "Part of the functional annotation was BLAST annotation."
   ]
  },
  {
   "cell_type": "markdown",
   "id": "d67a5687-21e8-41b4-a9b4-18c5a428673d",
   "metadata": {},
   "source": [
    "We first started with BLASTing against Swissprot Insecta, then continued with TrEMBL Insecta and tried to get a BLAST hit for the third time with Swissprot without taxonomy filtering."
   ]
  },
  {
   "cell_type": "code",
   "execution_count": 5,
   "id": "59a72202-a6ee-413d-88a2-9abc56842fe4",
   "metadata": {},
   "outputs": [],
   "source": [
    "# Swissprot Insecta  9690 proteins\n",
    "SI = \"/path_to/revieved_insecta/revieved_swisssecta.fasta\"\n",
    "# TrEMBL Insecta 5683201 proteins\n",
    "TI = \"/path_to/unrevieved_insecta/unrevieved_insecta.fasta\"\n",
    "# Swissprot, no taxononomy filtering 569793 proteins\n",
    "SA = \"/path_to/revieved_all/uniprot_sprot.fasta\""
   ]
  },
  {
   "cell_type": "code",
   "execution_count": null,
   "id": "19f06a71-f46d-4950-9b8c-0bdb98099fce",
   "metadata": {},
   "outputs": [],
   "source": [
    "!makeblastdb -in $SI -dbtype prot -input_type fasta\n",
    "!makeblastdb -in $TI -dbtype prot -input_type fasta\n",
    "!makeblastdb -in $SA -dbtype prot -input_type fasta"
   ]
  },
  {
   "cell_type": "code",
   "execution_count": 6,
   "id": "5cd52afc-ebf4-4ae9-ac80-83fa86b15fcf",
   "metadata": {},
   "outputs": [],
   "source": [
    "query = \"/path_to/Glon_single_transcript.fa\" # single transcript method below"
   ]
  },
  {
   "cell_type": "code",
   "execution_count": null,
   "id": "ab60f679-018e-4f50-aa20-7db9950d58b7",
   "metadata": {},
   "outputs": [
    {
     "name": "stdout",
     "output_type": "stream",
     "text": [
      "Warning: [blastp] Examining 5 or more matches is recommended\n"
     ]
    }
   ],
   "source": [
    "!blastp -num_threads 20 -query $query -db $SI -outfmt '6 std stitle' -out /path_to/libraries/revieved_insecta/SI_results2.blastp -evalue 1e-6 \\\n",
    "-max_hsps 1 -max_target_seqs 1 "
   ]
  },
  {
   "cell_type": "code",
   "execution_count": null,
   "id": "dbc847a1-5911-4c88-a1af-7c24dd016da7",
   "metadata": {},
   "outputs": [
    {
     "name": "stdout",
     "output_type": "stream",
     "text": [
      "Warning: [blastp] Examining 5 or more matches is recommended\n"
     ]
    }
   ],
   "source": [
    "!blastp -num_threads 20 -query $query -db $TI -outfmt '6 std stitle' -out /path_to/libraries/unrevieved_insecta/UI_results2.blastp -evalue 1e-6 \\\n",
    "-max_hsps 1 -max_target_seqs 1 "
   ]
  },
  {
   "cell_type": "code",
   "execution_count": null,
   "id": "82ee6378-423f-4c8f-a88d-40a1a890c04e",
   "metadata": {},
   "outputs": [
    {
     "name": "stdout",
     "output_type": "stream",
     "text": [
      "Warning: [blastp] Examining 5 or more matches is recommended\n"
     ]
    }
   ],
   "source": [
    "!blastp -num_threads 20 -query $query -db $SA -outfmt '6 std stitle' -out /path_to/libraries/revieved_all/SA_results2.blastp -evalue 1e-6 \\\n",
    "-max_hsps 1 -max_target_seqs 1"
   ]
  },
  {
   "cell_type": "code",
   "execution_count": 27,
   "id": "ee079102-4042-4c2a-8779-abc6c42dbb43",
   "metadata": {},
   "outputs": [],
   "source": [
    "results_A = {}\n",
    "results_B = {}\n",
    "results_C = {}\n",
    "\n",
    "\n",
    "\n",
    "with open(\"/path_to/libraries/revieved_insecta/SI_results2.blastp\", \"r\") as file_A:\n",
    "    for line in file_A:\n",
    "        fields = line.strip().split(\"\\t\")\n",
    "        results_A[fields[0]] = line\n",
    "\n",
    "with open(\"/path_to/libraries/unrevieved_insecta/UI_results2.blastp\", \"r\") as file_B:\n",
    "    for line in file_B:\n",
    "        fields = line.strip().split(\"\\t\")\n",
    "        # check if the protein ID already exists in A results, if not, add it\n",
    "        if fields[0] not in results_A:\n",
    "            results_B[fields[0]] = line\n",
    "\n",
    "with open(\"/path_to/libraries/revieved_all/SA_results2.blastp\", \"r\") as file_C:\n",
    "    for line in file_C:\n",
    "        fields = line.strip().split(\"\\t\")\n",
    "        # check if the protein ID already exists in A or B results, if not, add it\n",
    "        if fields[0] not in results_A and fields[0] not in results_B:\n",
    "            results_C[fields[0]] = line"
   ]
  },
  {
   "cell_type": "code",
   "execution_count": 29,
   "id": "e1e9d141-da1a-4dd3-8543-734ca5db89ba",
   "metadata": {},
   "outputs": [
    {
     "name": "stdout",
     "output_type": "stream",
     "text": [
      "7558\n",
      "5261\n",
      "7\n"
     ]
    }
   ],
   "source": [
    "print(len(results_A)) #7558\n",
    "print(len(results_B)) #5261\n",
    "print(len(results_C)) #7"
   ]
  },
  {
   "cell_type": "code",
   "execution_count": 28,
   "id": "ea2e963f-5520-484e-9f3b-6cc9d9ab0716",
   "metadata": {},
   "outputs": [],
   "source": [
    "merged_results = {**results_A, **results_B, **results_C}\n",
    "\n",
    "# write the merged results to an output file\n",
    "with open(\"merged_results.txt\", \"w\") as output_file:\n",
    "    for result in merged_results.values():\n",
    "        output_file.write(result)"
   ]
  },
  {
   "cell_type": "markdown",
   "id": "b9ba4c8d-432f-479a-b422-c021629757fc",
   "metadata": {},
   "source": [
    "## 6. InterProScan functional annotaion"
   ]
  },
  {
   "cell_type": "markdown",
   "id": "0b5f8783-0962-4f9f-8c20-b75627991b19",
   "metadata": {},
   "source": [
    "We used InterProScan to supplement the functional annotation."
   ]
  },
  {
   "cell_type": "code",
   "execution_count": null,
   "id": "f72fed3a-ded4-4a1b-9162-47d68e4a8ee7",
   "metadata": {},
   "outputs": [],
   "source": [
    "!head /path_to/single_transcripts/Glon/Glon_single_transcript.fa"
   ]
  },
  {
   "cell_type": "code",
   "execution_count": 46,
   "id": "cd02459d-9fa0-44ec-a951-b4f7b877a663",
   "metadata": {},
   "outputs": [
    {
     "name": "stdout",
     "output_type": "stream",
     "text": [
      "19761\n"
     ]
    }
   ],
   "source": [
    "!grep -c \">\" /path_to/single_transcripts/Glon/Glon_single_transcript.fa"
   ]
  },
  {
   "cell_type": "code",
   "execution_count": null,
   "id": "e072369d-0790-4179-ae8c-153b0dd7d638",
   "metadata": {},
   "outputs": [],
   "source": [
    "# there was an error with an annotation of gene 14096, I removed the fasta record (the protein was 17 amino acids long with two \".\" signs)"
   ]
  },
  {
   "cell_type": "code",
   "execution_count": null,
   "id": "f8be1985-2a55-4de9-b846-a08829ead83e",
   "metadata": {},
   "outputs": [],
   "source": [
    "!/path_to/installation/interproscan-5.63-95.0/interproscan.sh -i /path_to/single_transcripts/Glon/Glon_single_transcript.fa -f TSV -appl Pfam -goterms -cpu 20 -verbose -o /path_to/functional/ipr_out2\n"
   ]
  },
  {
   "cell_type": "markdown",
   "id": "d963b5ab-fa0f-48e1-a490-def9a21e1485",
   "metadata": {},
   "source": [
    "## 7. OrthoFinder relationships"
   ]
  },
  {
   "cell_type": "markdown",
   "id": "be7876f4-20f3-4ba2-bef5-e16b00dd1cf3",
   "metadata": {},
   "source": [
    "We checked the OrthoFinder relationships of amino acid sequences of the longest transcript for _Gryllus longicercus_ and 5 other species."
   ]
  },
  {
   "cell_type": "code",
   "execution_count": null,
   "id": "4b2fb769-eaf9-4f4b-a5d1-1868766a779f",
   "metadata": {},
   "outputs": [],
   "source": [
    "!docker run -it --rm davidemms/orthofinder orthofinder -h\n"
   ]
  },
  {
   "cell_type": "code",
   "execution_count": null,
   "id": "c1654c03-3d36-4761-9a6b-15e39a925f78",
   "metadata": {},
   "outputs": [],
   "source": [
    "# sed -E -i '/^[^>]/ s/\\.//g' *.fa"
   ]
  },
  {
   "cell_type": "code",
   "execution_count": null,
   "id": "47f6742e-b432-4081-a720-4becee72bc55",
   "metadata": {},
   "outputs": [],
   "source": [
    "!docker run --ulimit nofile=100000:100000 -it --rm -v /path_to/single_OF:/input:Z davidemms/orthofinder orthofinder -f /input\n"
   ]
  },
  {
   "cell_type": "code",
   "execution_count": 33,
   "id": "9f671994-0c93-40a2-82c7-008517a3e37e",
   "metadata": {},
   "outputs": [
    {
     "name": "stdout",
     "output_type": "stream",
     "text": [
      "((Aasa:0.216454,Lkoh:0.22336)0.755644:0.085904,((Gbim:0.0701653,Glon:0.033088)0.555054:0.0402281,(Tocc:0.0517169,Toce:0.106967)0.44373:0.0403061)0.755644:0.085904);"
     ]
    }
   ],
   "source": [
    "%%bash\n",
    "\n",
    "cat Species_Tree/SpeciesTree_rooted.txt\n"
   ]
  },
  {
   "cell_type": "code",
   "execution_count": 34,
   "id": "8e4cf0c6-9972-48cd-9f64-52478b132b48",
   "metadata": {},
   "outputs": [
    {
     "name": "stdout",
     "output_type": "stream",
     "text": [
      "Tree(rooted=False, weight=1.0)\n",
      "    Clade()\n",
      "        Clade(branch_length=0.085904, confidence=0.755644)\n",
      "            Clade(branch_length=0.216454, name='Aasa')\n",
      "            Clade(branch_length=0.22336, name='Lkoh')\n",
      "        Clade(branch_length=0.085904, confidence=0.755644)\n",
      "            Clade(branch_length=0.0402281, confidence=0.555054)\n",
      "                Clade(branch_length=0.0701653, name='Gbim')\n",
      "                Clade(branch_length=0.033088, name='Glon')\n",
      "            Clade(branch_length=0.0403061, confidence=0.44373)\n",
      "                Clade(branch_length=0.0517169, name='Tocc')\n",
      "                Clade(branch_length=0.106967, name='Toce')\n"
     ]
    }
   ],
   "source": [
    "from Bio import Phylo\n",
    "\n",
    "tree = Phylo.read(\"/path_to/Species_Tree/SpeciesTree_rooted.txt\", \"newick\")\n",
    "print(tree)"
   ]
  },
  {
   "cell_type": "code",
   "execution_count": 35,
   "id": "917729c2-e3ac-4641-ba5f-37286eec56fa",
   "metadata": {},
   "outputs": [
    {
     "data": {
      "image/png": "[encoded data removed]",
      "text/plain": [
       "<Figure size 432x288 with 1 Axes>"
      ]
     },
     "metadata": {
      "needs_background": "light"
     },
     "output_type": "display_data"
    }
   ],
   "source": [
    "Phylo.draw(tree)"
   ]
  },
  {
   "cell_type": "markdown",
   "id": "ece78c1d-e8a9-46c4-b5d5-4b78694940a7",
   "metadata": {},
   "source": [
    "## 8. Run BUSCOs on longest transcript per gene sets"
   ]
  },
  {
   "cell_type": "markdown",
   "id": "f03240e5-407f-41be-aca4-5d7dcaebab5f",
   "metadata": {},
   "source": [
    "BUSCO served as a QC measure throught the study."
   ]
  },
  {
   "cell_type": "code",
   "execution_count": null,
   "id": "ee98995d-9d27-4d35-9140-029f3892f674",
   "metadata": {},
   "outputs": [],
   "source": [
    "%%bash\n",
    "cd /path_to/single_transcripts\n",
    "\n",
    "docker run -u $(id -u) -v $(pwd):/busco_wd ezlabgva/busco:v5.5.0_cv1 busco -i /busco_wd/Aasa/Aasa_single_transcript.fa  -o AASA_a --out_path /busco_wd/outputs -m protein --augustus -l arthropoda -c 35 \n",
    "docker run -u $(id -u) -v $(pwd):/busco_wd ezlabgva/busco:v5.5.0_cv1 busco -i /busco_wd/Aasa/Aasa_single_transcript.fa  -o AASA_i --out_path /busco_wd/outputs -m protein --augustus -l insecta -c 35\n",
    "docker run -u $(id -u) -v $(pwd):/busco_wd ezlabgva/busco:v5.5.0_cv1 busco -i /busco_wd/Glon/Glon_single_transcript.fa -o GLON_a --out_path /busco_wd/outputs -m protein --augustus -l arthropoda -c 35 \n",
    "docker run -u $(id -u) -v $(pwd):/busco_wd ezlabgva/busco:v5.5.0_cv1 busco -i /busco_wd/Glon/Glon_single_transcript.fa -o GLON_i --out_path /busco_wd/outputs -m protein --augustus -l insecta -c 35\n",
    "docker run -u $(id -u) -v $(pwd):/busco_wd ezlabgva/busco:v5.5.0_cv1 busco -i /busco_wd/Tocc/Tocc_single_transcript.fa -o TOCC_a --out_path /busco_wd/outputs -m protein --augustus -l arthropoda -c 35 \n",
    "docker run -u $(id -u) -v $(pwd):/busco_wd ezlabgva/busco:v5.5.0_cv1 busco -i /busco_wd/Tocc/Tocc_single_transcript.fa -o TOCC_i --out_path /busco_wd/outputs -m protein --augustus -l insecta -c 35\n",
    "docker run -u $(id -u) -v $(pwd):/busco_wd ezlabgva/busco:v5.5.0_cv1 busco -i /busco_wd/Gbim/Gbim2_single_transcript.fa -o GBIM_a --out_path /busco_wd/outputs -m protein --augustus -l arthropoda -c 35 \n",
    "docker run -u $(id -u) -v $(pwd):/busco_wd ezlabgva/busco:v5.5.0_cv1 busco -i /busco_wd/Gbim/Gbim2_single_transcript.fa -o GBIM_i --out_path /busco_wd/outputs -m protein --augustus -l insecta -c 35\n",
    "docker run -u $(id -u) -v $(pwd):/busco_wd ezlabgva/busco:v5.5.0_cv1 busco -i /busco_wd/Lkoh/Lkoh_single_transcript.fa -o LKOH_a --out_path /busco_wd/outputs -m protein --augustus -l arthropoda -c 35 \n",
    "docker run -u $(id -u) -v $(pwd):/busco_wd ezlabgva/busco:v5.5.0_cv1 busco -i /busco_wd/Lkoh/Lkoh_single_transcript.fa -o LKOH_i --out_path /busco_wd/outputs -m protein --augustus -l insecta -c 35\n",
    "docker run -u $(id -u) -v $(pwd):/busco_wd ezlabgva/busco:v5.5.0_cv1 busco -i /busco_wd/Toce/Toce_single_transcript.fa -o TOCE_a --out_path /busco_wd/outputs -m protein --augustus -l arthropoda -c 35 \n",
    "docker run -u $(id -u) -v $(pwd):/busco_wd ezlabgva/busco:v5.5.0_cv1 busco -i /busco_wd/Toce/Toce_single_transcript.fa -o TOCE_i --out_path /busco_wd/outputs -m protein --augustus -l insecta -c 35"
   ]
  },
  {
   "cell_type": "markdown",
   "id": "dacb7320-bdc5-4b14-b0e4-cc5a33a1208e",
   "metadata": {},
   "source": [
    "## 9. Merge functional annotations"
   ]
  },
  {
   "cell_type": "markdown",
   "id": "d5eb91ac-ded4-4f3f-a5f8-2b793ca8f334",
   "metadata": {},
   "source": [
    "Matching InterProScan and BLAST result back witch gff IDs."
   ]
  },
  {
   "cell_type": "code",
   "execution_count": 13,
   "id": "0c287421-6b8b-428c-840a-6c1180c7fddc",
   "metadata": {},
   "outputs": [],
   "source": [
    "import pandas as pd\n",
    "from Bio import SeqIO\n",
    "\n",
    "ipr = pd.read_table(\"/path_to/functional/ipr_out2\", sep='\\t', header=None)"
   ]
  },
  {
   "cell_type": "code",
   "execution_count": null,
   "id": "740ffd07-da12-42d1-bf56-768f88277505",
   "metadata": {},
   "outputs": [],
   "source": [
    "ipr2 = ipr.drop(ipr.columns[[1,2,3,5,6,7,8,9,10,12]], axis = 1)"
   ]
  },
  {
   "cell_type": "code",
   "execution_count": 22,
   "id": "d5b10c54-bf0f-4523-a1de-25dbe9d4cf1e",
   "metadata": {},
   "outputs": [],
   "source": [
    "ipr2.columns = ['Header','Pfam','InterPro','GO']"
   ]
  },
  {
   "cell_type": "code",
   "execution_count": null,
   "id": "78e37c0b-ce40-4103-8b28-c45e5e814493",
   "metadata": {},
   "outputs": [],
   "source": [
    "ipr2['GO'] = ipr2['GO'].str.replace('|', ',')\n"
   ]
  },
  {
   "cell_type": "code",
   "execution_count": 34,
   "id": "177ed75a-ab84-4b83-ae9d-a303302095b6",
   "metadata": {},
   "outputs": [],
   "source": [
    "ipr2['GO'] = ipr2['GO'].astype(str)\n"
   ]
  },
  {
   "cell_type": "code",
   "execution_count": null,
   "id": "92a082be-9a2d-4e1a-b98d-8412ed28f604",
   "metadata": {},
   "outputs": [],
   "source": [
    "merged_ipr = ipr2.groupby('Header').agg(lambda x: ','.join(x))\n",
    "merged_ipr = merged_ipr.reset_index()"
   ]
  },
  {
   "cell_type": "code",
   "execution_count": 36,
   "id": "54f63b58-d1f4-4818-a353-ce465b14f1e2",
   "metadata": {},
   "outputs": [],
   "source": [
    "def remove_duplicates(cell):\n",
    "    values = cell.split(',')\n",
    "    unique_values = ','.join(filter(lambda x: x != '-', pd.unique(values)))\n",
    "    return unique_values\n",
    "\n",
    "merged_ipr = merged_ipr.applymap(remove_duplicates)"
   ]
  },
  {
   "cell_type": "code",
   "execution_count": null,
   "id": "9467b6d9-39cf-41dd-a590-110205801a4a",
   "metadata": {},
   "outputs": [],
   "source": [
    "def fasta_to_dataframe(fasta_file):\n",
    "    headers = []\n",
    "\n",
    "    for record in SeqIO.parse(fasta_file, \"fasta\"):\n",
    "        headers.append(record.id)\n",
    "\n",
    "    df = pd.DataFrame({\"Header\": headers})\n",
    "\n",
    "    return df\n",
    "\n",
    "fasta_file_path = '/path_to/single_transcripts/Glon/Glon_single_transcript.fa'\n",
    "df = fasta_to_dataframe(fasta_file_path)"
   ]
  },
  {
   "cell_type": "code",
   "execution_count": null,
   "id": "bbb0e24c-d1f7-4acb-a4b3-47ad5a79f032",
   "metadata": {},
   "outputs": [],
   "source": [
    "merged_df = pd.merge(df, merged_ipr, on='Header', how='left')"
   ]
  },
  {
   "cell_type": "code",
   "execution_count": null,
   "id": "48f8465b-61b0-401b-aa17-2b0123c8c1f9",
   "metadata": {},
   "outputs": [],
   "source": [
    "merged_df = merged_df.fillna(pd.NA)\n",
    "merged_df = merged_df.replace({'': pd.NA, None: pd.NA})"
   ]
  },
  {
   "cell_type": "code",
   "execution_count": 41,
   "id": "04f06ea4-2aa4-4754-a863-68d606771cc5",
   "metadata": {},
   "outputs": [
    {
     "data": {
      "text/plain": [
       "Header      14832\n",
       "Pfam        10962\n",
       "InterPro    10727\n",
       "GO           7056\n",
       "dtype: int64"
      ]
     },
     "execution_count": 41,
     "metadata": {},
     "output_type": "execute_result"
    }
   ],
   "source": [
    "non_na = merged_df.count()\n",
    "non_na"
   ]
  },
  {
   "cell_type": "code",
   "execution_count": null,
   "id": "d1f1d911-12b8-4e5e-95ce-93df5fdb288b",
   "metadata": {},
   "outputs": [],
   "source": [
    "blast_df = pd.DataFrame([value.split('\\t') for value in merged_results.values()],\n",
    "                  index=merged_results.keys())\n"
   ]
  },
  {
   "cell_type": "code",
   "execution_count": null,
   "id": "9007c3c8-b23b-414b-bbe9-0fb7844852db",
   "metadata": {},
   "outputs": [],
   "source": [
    "blast_df = blast_df.drop(blast_df.columns[[2,3,4,5,6,7,8,9,10,11]], axis = 1)\n"
   ]
  },
  {
   "cell_type": "code",
   "execution_count": null,
   "id": "891d8ff2-0fdd-414b-8aa5-b97176732940",
   "metadata": {},
   "outputs": [],
   "source": [
    "blast_df.columns = ['Header','BLAST_ID','Info']"
   ]
  },
  {
   "cell_type": "code",
   "execution_count": 53,
   "id": "4f267f8c-a1aa-421c-b653-3cfdce7473fb",
   "metadata": {},
   "outputs": [
    {
     "data": {
      "text/plain": [
       "'sp|A1ZAI5|FACR1_DROME Putative fatty acyl-CoA reductase CG5065 OS=Drosophila melanogaster OX=7227 GN=CG5065 PE=3 SV=1\\n'"
      ]
     },
     "execution_count": 53,
     "metadata": {},
     "output_type": "execute_result"
    }
   ],
   "source": [
    "blast_df.iloc[0,2]"
   ]
  },
  {
   "cell_type": "code",
   "execution_count": null,
   "id": "cf3e5210-7d1a-4a49-8186-2e5f4e444053",
   "metadata": {},
   "outputs": [],
   "source": [
    "pattern = r'^(\\S+) (.+?) OS=(.+?) OX=.+?$'\n",
    "\n",
    "# apply the pattern to BlastP output and create three new columns\n",
    "blast_df[['Protein_ID', 'Gene_Description', 'Organism']] = blast_df['Info'].str.extract(pattern)\n",
    "\n",
    "print(blast_df)"
   ]
  },
  {
   "cell_type": "code",
   "execution_count": null,
   "id": "54a7bd0d-b866-4475-a654-9048211fff94",
   "metadata": {},
   "outputs": [],
   "source": [
    "merged_blast = pd.merge(merged_df, blast_df, on='Header', how='left')\n",
    "merged_blast = merged_blast.fillna(pd.NA)"
   ]
  },
  {
   "cell_type": "code",
   "execution_count": 80,
   "id": "1c76bbc7-09d6-4186-851f-07ba342f93ae",
   "metadata": {},
   "outputs": [],
   "source": [
    "import numpy as np"
   ]
  },
  {
   "cell_type": "code",
   "execution_count": null,
   "id": "42c7b2ae-3e30-4777-bbef-fe94da73733a",
   "metadata": {},
   "outputs": [],
   "source": [
    "merged_blast.replace('<NA>', np.nan, inplace=True)"
   ]
  },
  {
   "cell_type": "code",
   "execution_count": 82,
   "id": "d3596a6a-0a8f-4277-8033-b1cbed92f1de",
   "metadata": {},
   "outputs": [
    {
     "data": {
      "text/plain": [
       "Header              14832\n",
       "Pfam                10962\n",
       "InterPro            10727\n",
       "GO                   7056\n",
       "BLAST_ID            12826\n",
       "Info                12826\n",
       "Protein_ID          12826\n",
       "Gene_Description    12826\n",
       "Organism            12826\n",
       "dtype: int64"
      ]
     },
     "execution_count": 82,
     "metadata": {},
     "output_type": "execute_result"
    }
   ],
   "source": [
    "non_na = merged_blast.count()\n",
    "non_na"
   ]
  },
  {
   "cell_type": "code",
   "execution_count": 83,
   "id": "fdde8474-59d5-4734-b28c-36797ce2dbde",
   "metadata": {},
   "outputs": [
    {
     "data": {
      "text/html": [
       "<div>\n",
       "<style scoped>\n",
       "    .dataframe tbody tr th:only-of-type {\n",
       "        vertical-align: middle;\n",
       "    }\n",
       "\n",
       "    .dataframe tbody tr th {\n",
       "        vertical-align: top;\n",
       "    }\n",
       "\n",
       "    .dataframe thead th {\n",
       "        text-align: right;\n",
       "    }\n",
       "</style>\n",
       "<table border=\"1\" class=\"dataframe\">\n",
       "  <thead>\n",
       "    <tr style=\"text-align: right;\">\n",
       "      <th></th>\n",
       "      <th>Header</th>\n",
       "      <th>Pfam</th>\n",
       "      <th>InterPro</th>\n",
       "      <th>GO</th>\n",
       "      <th>Protein_ID</th>\n",
       "      <th>Gene_Description</th>\n",
       "      <th>Organism</th>\n",
       "    </tr>\n",
       "  </thead>\n",
       "  <tbody>\n",
       "    <tr>\n",
       "      <th>0</th>\n",
       "      <td>g1.t1</td>\n",
       "      <td>PF07993</td>\n",
       "      <td>IPR013120</td>\n",
       "      <td>&lt;NA&gt;</td>\n",
       "      <td>sp|A1ZAI5|FACR1_DROME</td>\n",
       "      <td>Putative fatty acyl-CoA reductase CG5065</td>\n",
       "      <td>Drosophila melanogaster</td>\n",
       "    </tr>\n",
       "    <tr>\n",
       "      <th>1</th>\n",
       "      <td>g2.t1</td>\n",
       "      <td>PF07993</td>\n",
       "      <td>IPR013120</td>\n",
       "      <td>&lt;NA&gt;</td>\n",
       "      <td>sp|A1ZAI5|FACR1_DROME</td>\n",
       "      <td>Putative fatty acyl-CoA reductase CG5065</td>\n",
       "      <td>Drosophila melanogaster</td>\n",
       "    </tr>\n",
       "    <tr>\n",
       "      <th>2</th>\n",
       "      <td>g3.t2</td>\n",
       "      <td>PF07993,PF03015</td>\n",
       "      <td>IPR013120,IPR033640</td>\n",
       "      <td>&lt;NA&gt;</td>\n",
       "      <td>sp|A1ZAI5|FACR1_DROME</td>\n",
       "      <td>Putative fatty acyl-CoA reductase CG5065</td>\n",
       "      <td>Drosophila melanogaster</td>\n",
       "    </tr>\n",
       "    <tr>\n",
       "      <th>3</th>\n",
       "      <td>g4.t1</td>\n",
       "      <td>&lt;NA&gt;</td>\n",
       "      <td>&lt;NA&gt;</td>\n",
       "      <td>&lt;NA&gt;</td>\n",
       "      <td>sp|Q8MS59|WAT_DROME</td>\n",
       "      <td>Fatty acyl-CoA reductase wat</td>\n",
       "      <td>Drosophila melanogaster</td>\n",
       "    </tr>\n",
       "    <tr>\n",
       "      <th>4</th>\n",
       "      <td>g5.t1</td>\n",
       "      <td>PF03015,PF07993</td>\n",
       "      <td>IPR033640,IPR013120</td>\n",
       "      <td>&lt;NA&gt;</td>\n",
       "      <td>sp|A1ZAI5|FACR1_DROME</td>\n",
       "      <td>Putative fatty acyl-CoA reductase CG5065</td>\n",
       "      <td>Drosophila melanogaster</td>\n",
       "    </tr>\n",
       "    <tr>\n",
       "      <th>...</th>\n",
       "      <td>...</td>\n",
       "      <td>...</td>\n",
       "      <td>...</td>\n",
       "      <td>...</td>\n",
       "      <td>...</td>\n",
       "      <td>...</td>\n",
       "      <td>...</td>\n",
       "    </tr>\n",
       "    <tr>\n",
       "      <th>14827</th>\n",
       "      <td>g14829.t1</td>\n",
       "      <td>PF16661</td>\n",
       "      <td>IPR001279</td>\n",
       "      <td>&lt;NA&gt;</td>\n",
       "      <td>sp|Q95TS5|INT9_DROME</td>\n",
       "      <td>Integrator complex subunit 9</td>\n",
       "      <td>Drosophila melanogaster</td>\n",
       "    </tr>\n",
       "    <tr>\n",
       "      <th>14828</th>\n",
       "      <td>g14830.t2</td>\n",
       "      <td>PF05761</td>\n",
       "      <td>IPR008380</td>\n",
       "      <td>&lt;NA&gt;</td>\n",
       "      <td>tr|A0A2J7QDE4|A0A2J7QDE4_9NEOP</td>\n",
       "      <td>5'-nucleotidase domain-containing protein 3</td>\n",
       "      <td>Cryptotermes secundus</td>\n",
       "    </tr>\n",
       "    <tr>\n",
       "      <th>14829</th>\n",
       "      <td>g14831.t2</td>\n",
       "      <td>PF02269</td>\n",
       "      <td>IPR003195</td>\n",
       "      <td>GO:0006366</td>\n",
       "      <td>tr|A0A8K0NUD0|A0A8K0NUD0_LADFU</td>\n",
       "      <td>Transcription initiation factor TFIID subunit 13</td>\n",
       "      <td>Ladona fulva</td>\n",
       "    </tr>\n",
       "    <tr>\n",
       "      <th>14830</th>\n",
       "      <td>g14832.t1</td>\n",
       "      <td>&lt;NA&gt;</td>\n",
       "      <td>&lt;NA&gt;</td>\n",
       "      <td>&lt;NA&gt;</td>\n",
       "      <td>tr|A0A2J7RIN0|A0A2J7RIN0_9NEOP</td>\n",
       "      <td>Wiskott-Aldrich syndrome protein family member...</td>\n",
       "      <td>Cryptotermes secundus</td>\n",
       "    </tr>\n",
       "    <tr>\n",
       "      <th>14831</th>\n",
       "      <td>g14833.t1</td>\n",
       "      <td>&lt;NA&gt;</td>\n",
       "      <td>&lt;NA&gt;</td>\n",
       "      <td>&lt;NA&gt;</td>\n",
       "      <td>&lt;NA&gt;</td>\n",
       "      <td>&lt;NA&gt;</td>\n",
       "      <td>&lt;NA&gt;</td>\n",
       "    </tr>\n",
       "  </tbody>\n",
       "</table>\n",
       "<p>14832 rows × 7 columns</p>\n",
       "</div>"
      ],
      "text/plain": [
       "          Header             Pfam             InterPro          GO  \\\n",
       "0          g1.t1          PF07993            IPR013120        <NA>   \n",
       "1          g2.t1          PF07993            IPR013120        <NA>   \n",
       "2          g3.t2  PF07993,PF03015  IPR013120,IPR033640        <NA>   \n",
       "3          g4.t1             <NA>                 <NA>        <NA>   \n",
       "4          g5.t1  PF03015,PF07993  IPR033640,IPR013120        <NA>   \n",
       "...          ...              ...                  ...         ...   \n",
       "14827  g14829.t1          PF16661            IPR001279        <NA>   \n",
       "14828  g14830.t2          PF05761            IPR008380        <NA>   \n",
       "14829  g14831.t2          PF02269            IPR003195  GO:0006366   \n",
       "14830  g14832.t1             <NA>                 <NA>        <NA>   \n",
       "14831  g14833.t1             <NA>                 <NA>        <NA>   \n",
       "\n",
       "                           Protein_ID  \\\n",
       "0               sp|A1ZAI5|FACR1_DROME   \n",
       "1               sp|A1ZAI5|FACR1_DROME   \n",
       "2               sp|A1ZAI5|FACR1_DROME   \n",
       "3                 sp|Q8MS59|WAT_DROME   \n",
       "4               sp|A1ZAI5|FACR1_DROME   \n",
       "...                               ...   \n",
       "14827            sp|Q95TS5|INT9_DROME   \n",
       "14828  tr|A0A2J7QDE4|A0A2J7QDE4_9NEOP   \n",
       "14829  tr|A0A8K0NUD0|A0A8K0NUD0_LADFU   \n",
       "14830  tr|A0A2J7RIN0|A0A2J7RIN0_9NEOP   \n",
       "14831                            <NA>   \n",
       "\n",
       "                                        Gene_Description  \\\n",
       "0               Putative fatty acyl-CoA reductase CG5065   \n",
       "1               Putative fatty acyl-CoA reductase CG5065   \n",
       "2               Putative fatty acyl-CoA reductase CG5065   \n",
       "3                           Fatty acyl-CoA reductase wat   \n",
       "4               Putative fatty acyl-CoA reductase CG5065   \n",
       "...                                                  ...   \n",
       "14827                       Integrator complex subunit 9   \n",
       "14828        5'-nucleotidase domain-containing protein 3   \n",
       "14829   Transcription initiation factor TFIID subunit 13   \n",
       "14830  Wiskott-Aldrich syndrome protein family member...   \n",
       "14831                                               <NA>   \n",
       "\n",
       "                      Organism  \n",
       "0      Drosophila melanogaster  \n",
       "1      Drosophila melanogaster  \n",
       "2      Drosophila melanogaster  \n",
       "3      Drosophila melanogaster  \n",
       "4      Drosophila melanogaster  \n",
       "...                        ...  \n",
       "14827  Drosophila melanogaster  \n",
       "14828    Cryptotermes secundus  \n",
       "14829             Ladona fulva  \n",
       "14830    Cryptotermes secundus  \n",
       "14831                     <NA>  \n",
       "\n",
       "[14832 rows x 7 columns]"
      ]
     },
     "execution_count": 83,
     "metadata": {},
     "output_type": "execute_result"
    }
   ],
   "source": [
    "merged_blast = merged_blast.drop(merged_blast.columns[[4,5]], axis = 1)\n",
    "merged_blast"
   ]
  },
  {
   "cell_type": "code",
   "execution_count": 85,
   "id": "ba961bbc-0d30-4339-80ae-4a5da544b165",
   "metadata": {},
   "outputs": [],
   "source": [
    "columns_to_check = [\"Pfam\", \"InterPro\", \"GO\", \"Protein_ID\"]\n",
    "rows_with_non_na = merged_blast[columns_to_check].notna().any(axis=1).sum()"
   ]
  },
  {
   "cell_type": "code",
   "execution_count": 86,
   "id": "917eed8c-d229-446d-a71c-8619fab6cd54",
   "metadata": {},
   "outputs": [
    {
     "data": {
      "text/plain": [
       "12898"
      ]
     },
     "execution_count": 86,
     "metadata": {},
     "output_type": "execute_result"
    }
   ],
   "source": [
    "rows_with_non_na "
   ]
  },
  {
   "cell_type": "markdown",
   "id": "c2b9fa0f-8d03-4f73-b47e-f68dd818a647",
   "metadata": {},
   "source": [
    "## 10. Run BUSCO on the assemblies"
   ]
  },
  {
   "cell_type": "code",
   "execution_count": null,
   "id": "d1c63d33-15da-4579-99fa-1b7e977d4a62",
   "metadata": {},
   "outputs": [],
   "source": [
    "%%bash\n",
    "\n",
    "cd /path_to/ncbi_dataset/data\n",
    "\n",
    "# iterate through genomes\n",
    "for file in */*.fna; do\n",
    "    f=\"$(basename $file | cut -d '.' -f1)\"\n",
    "    dir=\"$(dirname $file)\"\n",
    "    dir2=\"$(basename $dir)\" \n",
    "\n",
    "    docker run -u $(id -u) -v $(pwd):/busco_wd ezlabgva/busco:v5.5.0_cv1 busco -i /busco_wd/${dir2}/${f}.fna -o ${f}_art --out_path /busco_wd/${dir2} -m geno --augustus -l arthropoda -c 30\n",
    "    docker run -u $(id -u) -v $(pwd):/busco_wd ezlabgva/busco:v5.5.0_cv1 busco -i /busco_wd/${dir2}/${f}.fna -o ${f}_ins --out_path /busco_wd/${dir2} -m geno --augustus -l insecta -c 30 \n",
    "\n",
    "done"
   ]
  },
  {
   "cell_type": "markdown",
   "id": "ece64d49-12ef-4542-9ae1-7d278f070784",
   "metadata": {},
   "source": [
    "## 11. Choosing the longest transcript"
   ]
  },
  {
   "cell_type": "markdown",
   "id": "07ccec9e-f506-4ecc-97f4-9c30eda007c7",
   "metadata": {},
   "source": [
    "A base way with which we have chosen the longest transcript per gene from the annotations."
   ]
  },
  {
   "cell_type": "code",
   "execution_count": null,
   "id": "de5b72ee-1b00-44d6-bc98-81a5cc6a75cd",
   "metadata": {},
   "outputs": [],
   "source": [
    "#first, fasta files were filtered for the longest protein with the same gene_ID \n",
    "\n",
    "def filter_longest_proteins(fasta_file, splitter):\n",
    "    records = SeqIO.to_dict(SeqIO.parse(fasta_file, \"fasta\"))\n",
    "\n",
    "    longest_proteins = {}\n",
    "\n",
    "    for record_id, sequence in records.items():\n",
    "        #extract identifier prefix (e.g., Lko_35551) and isoform (e.g., -RA)\n",
    "        identifier_prefix, isoform = record_id.rsplit(splitter, 1)\n",
    "        isoform = isoform.upper()\n",
    "\n",
    "        #compare and store the longest sequence for each identifier prefix\n",
    "        if identifier_prefix not in longest_proteins or len(sequence) > len(longest_proteins[identifier_prefix]):\n",
    "            longest_proteins[identifier_prefix] = sequence\n",
    "\n",
    "    return longest_proteins\n",
    "\n",
    "def get_unique_identifiers(filtered_proteins):\n",
    "    unique_identifiers = list(filtered_proteins.keys())\n",
    "    return unique_identifiers\n",
    "\n",
    "def write_filtered_fasta(filtered_proteins, unique_identifiers, output_file):\n",
    "    filtered_records = {record_id: record for record_id, record in filtered_proteins.items() if record_id.split('-')[0] in unique_identifiers}\n",
    "\n",
    "    # write the filtered records to a new file\n",
    "    with open(output_file, \"w\") as output_handle:\n",
    "        SeqIO.write(filtered_records.values(), output_handle, \"fasta\")"
   ]
  },
  {
   "cell_type": "code",
   "execution_count": null,
   "id": "f45384a0-cfb0-4033-90b1-306ca40a617f",
   "metadata": {},
   "outputs": [],
   "source": [
    "# next, gff was filtered with the longest transcript names\n",
    "\n",
    "from Bio import SeqIO\n",
    "\n",
    "\n",
    "# fasta file with the longest transcripts only\n",
    "def longest_transcripts_IDs(fasta_file):\n",
    "    records = SeqIO.to_dict(SeqIO.parse(fasta_file, \"fasta\"))\n",
    "\n",
    "    transcript_ID = []\n",
    "\n",
    "    for record_id,sequence in records.items():\n",
    "        transcript_ID.append(record_id)\n",
    "\n",
    "    return transcript_ID\n",
    "\n",
    "\n",
    "spec_transcripts = longest_transcripts_IDs(fasta)\n",
    "spec_genes = []\n",
    "for ID in spec_transcripts:\n",
    "    gene = ID.rsplit(\"-\")[0]\n",
    "    spec_genes.append(gene)\n",
    "\n",
    "    \n",
    "# actual filtering \n",
    "def filter_gff(input_gff, output_filename, transcripts, genes):\n",
    "    with open(input_gff, 'r') as input_file:\n",
    "        gff_lines = input_file.readlines()\n",
    "\n",
    "    with open(output_filename, 'w') as output_file:\n",
    "        for line in gff_lines:\n",
    "            line = line.strip()\n",
    "            if line == '' or line.startswith('#'):\n",
    "                output_file.write(line + '\\n')\n",
    "                continue\n",
    "\n",
    "            fields = line.split('\\t')\n",
    "            attributes = dict(item.split('=') for item in fields[8].split(';') if '=' in item)\n",
    "\n",
    "            gene_id = attributes.get('ID')\n",
    "            transcript_id = attributes.get('ID')\n",
    "            parent_id = attributes.get('Parent')\n",
    "\n",
    "            if gene_id in genes:\n",
    "                output_file.write(line + '\\n')\n",
    "            elif transcript_id in transcripts:\n",
    "                output_file.write(line + '\\n')\n",
    "            elif parent_id in transcripts:\n",
    "                output_file.write(line + '\\n')"
   ]
  },
  {
   "cell_type": "markdown",
   "id": "8a30ab1f-e6a4-4dff-be7e-9ccaa44e915a",
   "metadata": {},
   "source": [
    "## 12. Counting features method"
   ]
  },
  {
   "cell_type": "markdown",
   "id": "a2029e55-1ca1-4ccc-a3ea-0bd56a391782",
   "metadata": {},
   "source": [
    "To count features for Table 3 we have used a combination of above functions.\n"
   ]
  },
  {
   "cell_type": "code",
   "execution_count": null,
   "id": "fed7f5d3-7aa9-438e-81f7-c8e154d2f3ea",
   "metadata": {},
   "outputs": [],
   "source": [
    "from Bio import SeqIO\n",
    "\n",
    "def count_exons_and_length(gff_file,splitter):\n",
    "    gene_dict = {}\n",
    "\n",
    "    with open(gff_file, 'r') as gff_lines:\n",
    "        for line in gff_lines:\n",
    "            line = line.strip()\n",
    "            if line == '' or line.startswith('#'):\n",
    "                continue\n",
    "\n",
    "            fields = line.split('\\t')\n",
    "            attributes = dict(item.split('=') for item in fields[8].split(';') if '=' in item)\n",
    "\n",
    "            gene_id = attributes.get('ID')\n",
    "            transcript_id = attributes.get('ID')\n",
    "            parent_id = attributes.get('Parent')\n",
    "            \n",
    "            if parent_id is None:\n",
    "                gene_dict[gene_id] = {'exons': [], 'CDSs': []}\n",
    "                \n",
    "            elif fields[2] == \"exon\":\n",
    "                gene_dict[parent_id.split(splitter)[0]]['exons'].append([fields[3], fields[4]])\n",
    "\n",
    "            elif fields[2] == \"CDS\":\n",
    "                gene_dict[parent_id.split(splitter)[0]]['CDSs'].append([fields[3], fields[4]])\n",
    "                \n",
    "        \n",
    "    return gene_dict\n",
    "                "
   ]
  },
  {
   "cell_type": "code",
   "execution_count": null,
   "id": "4eeaa96a-8c4f-4013-8503-0fcdd6bd2d6c",
   "metadata": {},
   "outputs": [],
   "source": [
    "# gene_dict is count_stats()'s input"
   ]
  },
  {
   "cell_type": "code",
   "execution_count": null,
   "id": "8e91948e-4871-4e48-b251-a5c0b0b4e7b1",
   "metadata": {},
   "outputs": [],
   "source": [
    "def count_stats(gene_data):\n",
    "    exon_counts = []\n",
    "    cds_lengths = []\n",
    "    single_exon_genes = 0\n",
    "    \n",
    "    for gene, data in gene_data.items():\n",
    "        exon_count = len(data['exons'])\n",
    "        cds_length = sum(int(cds[1]) - int(cds[0]) + 1 for cds in data['CDSs'])\n",
    "\n",
    "        exon_counts.append(int(exon_count))\n",
    "        cds_lengths.append(cds_length)\n",
    "        \n",
    "        if exon_count == 1:\n",
    "            single_exon_genes += 1\n",
    "\n",
    "    avg_exons = sum(exon_counts) / len(exon_counts)\n",
    "    avg_cds_length = sum(cds_lengths) / len(cds_lengths)\n",
    "\n",
    "    print(f\"Average number of exons per gene: {avg_exons}\")\n",
    "    print(f\"Average total length of CDS per gene: {avg_cds_length} bases\")\n",
    "    print(f\"Number of genes with a single exon: {single_exon_genes}\")\n",
    "    print(exon_counts[0:10])\n",
    "    print(cds_lengths[0:10])\n",
    "    "
   ]
  },
  {
   "cell_type": "markdown",
   "id": "d5428c2e-45ec-46ff-9d7c-5df3231626d0",
   "metadata": {},
   "source": [
    "## 13. Putting annotation in the gff file."
   ]
  },
  {
   "cell_type": "markdown",
   "id": "a95b01c5-b376-421a-9b56-cf009f031394",
   "metadata": {},
   "source": [
    "Once the IDs of the gff and BLAST and InterProScan result were matched, the results were put back in the gff file."
   ]
  },
  {
   "cell_type": "code",
   "execution_count": null,
   "id": "6384e441-3d47-449d-a254-fa137e9b2671",
   "metadata": {},
   "outputs": [],
   "source": [
    "def get_ncbi_id(gene_id):\n",
    "    match = re.search(r'\\d+', gene_id)\n",
    "    if match:\n",
    "        gene_number=int(match.group())\n",
    "        gene_ncbi = f'GLON{gene_number:05d}'\n",
    "        return gene_ncbi\n",
    "    else:\n",
    "        return \"error\"\n",
    "\n",
    "t_to_R = {'t'+str(i): '-R' + chr(65 + ((i-1) % 26)) for i in range(1, 27)}\n",
    "t_to_R.update({'t27': '-RAA', 't28': '-RAB','t29': '-RAC', 't30': '-RAD', 't31': '-RAE', 't32': '-RAF', 't33': '-RAH'})\n",
    "\n",
    "def ID_change_gff_and_annotate(input_gff, output_gff):\n",
    "    with open(input_gff, 'r') as input_file:\n",
    "        gff_lines = input_file.readlines()\n",
    "\n",
    "    with open(output_gff, 'w') as output_file:\n",
    "        for line in gff_lines:\n",
    "            line = line.strip()\n",
    "            if line == '' or line.startswith('#'):\n",
    "                output_file.write(line + '\\n')\n",
    "                continue\n",
    "\n",
    "            fields = line.split('\\t')\n",
    "            attributes = dict(item.split('=') for item in fields[8].split(';') if '=' in item)\n",
    "\n",
    "            gene_id = attributes.get('ID')\n",
    "            transcript_id = attributes.get('ID')\n",
    "            parent_id = attributes.get('Parent')\n",
    "\n",
    "            if parent_id is None:\n",
    "\n",
    "                matching_row_list = merged_blast.loc[merged_blast['Gene'] == gene_id].values.tolist()[0]\n",
    "                ncbi_id = get_ncbi_id(gene_id) \n",
    "\n",
    "                new_field='ID='+ncbi_id+';Name='+ncbi_id+';'\n",
    "\n",
    "                if matching_row_list[4] is not pd.NA:\n",
    "                    new_field += 'Note=Similar to '+matching_row_list[4]+': ' + matching_row_list[5] + ' (' + matching_row_list[6] + ');'\n",
    "\n",
    "                if ((matching_row_list[2] is not pd.NA) | (matching_row_list[1] is not pd.NA) | (matching_row_list[3] is not pd.NA)):\n",
    "\n",
    "                    new_field += 'Dbxref='\n",
    "                    \n",
    "                    if matching_row_list[2] is not pd.NA: \n",
    "                        elements = matching_row_list[2].split(',')\n",
    "                        for i, elem in enumerate(elements):\n",
    "                            new_field += 'InterPro:' + elem\n",
    "                            if i < len(elements) - 1:\n",
    "                                new_field += ','\n",
    "                                \n",
    "                        if ((matching_row_list[1] is not pd.NA) | (matching_row_list[3] is not pd.NA)):\n",
    "                                new_field += ','\n",
    "\n",
    "                                \n",
    "                    if matching_row_list[1] is not pd.NA: \n",
    "                        elements = matching_row_list[1].split(',')\n",
    "                        for i, elem in enumerate(elements):\n",
    "                            new_field += 'PFAM:' + elem\n",
    "                            if i < len(elements) - 1:\n",
    "                                new_field += ','\n",
    "                                \n",
    "                        if (matching_row_list[3] is not pd.NA):\n",
    "                                new_field += ','\n",
    "\n",
    "                    if matching_row_list[3] is not pd.NA: \n",
    "                        elements = matching_row_list[3].split(',')\n",
    "                        for i, elem in enumerate(elements):\n",
    "                            new_field += 'GO:' + elem\n",
    "                            if i < len(elements) - 1:\n",
    "                                new_field += ','\n",
    "\n",
    "\n",
    "            elif \".\" not in set(parent_id):\n",
    "                gene_ident = transcript_id.split('.')[0]\n",
    "                ncbi_id = get_ncbi_id(gene_ident)\n",
    "                new_id = ncbi_id + t_to_R[transcript_id.split('.',1)[1]]\n",
    "                new_parent_id = ncbi_id \n",
    "                new_field='ID='+new_id+';Parent='+new_parent_id+';'\n",
    "            else:\n",
    "                gene_ident = parent_id.split('.')[0]\n",
    "                ncbi_id = get_ncbi_id(gene_ident)\n",
    "                new_parent_id = ncbi_id + t_to_R[transcript_id.split('.',2)[1]]\n",
    "                new_id = new_parent_id + '.' + gene_id.split('.',2)[2]\n",
    "                new_field='ID='+new_id+';Parent='+new_parent_id+';'\n",
    "\n",
    "            fields[8]=new_field    \n",
    "            result_fields = \"\\t\".join(fields)\n",
    "            output_file.write(result_fields + '\\n')\n",
    "\n"
   ]
  }
 ],
 "metadata": {
  "kernelspec": {
   "display_name": "Python 3 (ipykernel)",
   "language": "python",
   "name": "python3"
  },
  "language_info": {
   "codemirror_mode": {
    "name": "ipython",
    "version": 3
   },
   "file_extension": ".py",
   "mimetype": "text/x-python",
   "name": "python",
   "nbconvert_exporter": "python",
   "pygments_lexer": "ipython3",
   "version": "3.8.10"
  }
 },
 "nbformat": 4,
 "nbformat_minor": 5
}
