{
 "cells": [
  {
   "cell_type": "markdown",
   "id": "2026b9db-4328-440f-94b7-28784b99a6ea",
   "metadata": {},
   "source": [
    "# Structural and functional annotation of Gryllus longicercus"
   ]
  },
  {
   "cell_type": "markdown",
   "id": "7aafdbb9-deba-4807-b87e-588ef0549458",
   "metadata": {},
   "source": [
    "Szymon Szrajer 17-10-23"
   ]
  },
  {
   "cell_type": "markdown",
   "id": "8162592e-2aff-4b66-af0d-b3db4bbe8910",
   "metadata": {},
   "source": [
    "## 1. Prepare RNAseq evidence (BAM files)."
   ]
  },
  {
   "cell_type": "markdown",
   "id": "66dc1094-c005-4352-b6be-f23e6fb971ea",
   "metadata": {},
   "source": [
    "### 1a. Download fastq.gz files"
   ]
  },
  {
   "cell_type": "code",
   "execution_count": null,
   "id": "0ae58b3a-fd6f-4e75-8540-885bc70bf74c",
   "metadata": {},
   "outputs": [],
   "source": [
    "%%bash \n",
    "# download fastq.gz files\n",
    "cd /data/Glon_RNAseq/fastq\n",
    "wget -O 00_fastq.zip https://www.dropbox.com/sh/qunrnjoguppui1p/AAAfHJROjaCNNcY-S_ME2pCPa\\?dl\\=1"
   ]
  },
  {
   "cell_type": "code",
   "execution_count": null,
   "id": "12b90ae6-85b0-4460-8d79-a5c1e2efc85b",
   "metadata": {},
   "outputs": [],
   "source": [
    "%%bash \n",
    "# unzip fastq.gz folder\n",
    "cd /data/Glon_RNAseq/fastq\n",
    "unzip 00_fastq.zip"
   ]
  },
  {
   "cell_type": "markdown",
   "id": "c835804f-325c-4cd8-933b-3344fd277e44",
   "metadata": {
    "tags": []
   },
   "source": [
    "### 1b. Run FastQC"
   ]
  },
  {
   "cell_type": "code",
   "execution_count": null,
   "id": "f7eed4c8-6e82-4615-8fac-0e8b58f0c9eb",
   "metadata": {},
   "outputs": [],
   "source": [
    "%%bash\n",
    "cd /data/Glon_RNAseq/fastq\n",
    "/data/Glon_RNAseq/software/FastQC/fastqc -o ../qc_precut -t 30 *gz"
   ]
  },
  {
   "cell_type": "markdown",
   "id": "0bbe7469-81cb-464f-a8d4-a64922b9894c",
   "metadata": {},
   "source": [
    "### 1c. Run Trim Galore!"
   ]
  },
  {
   "cell_type": "code",
   "execution_count": null,
   "id": "3da2c03b-0bb3-4996-883f-621785847551",
   "metadata": {},
   "outputs": [],
   "source": [
    "%%bash\n",
    "cd /data/Glon_RNAseq/fastq\n",
    "for r1_file in *_R1.fastq.gz; do\n",
    "    # get_ the corresponding R2 file name by replacing \"_R1\" with \"_R2\"\n",
    "    r2_file=${r1_file/_R1/_R2}\n",
    "    \n",
    "    /data/Glon_RNAseq/software/TrimGalore-0.6.10/trim_galore --paired -j 5 ${r1_file} ${r2_file}\n",
    "\n",
    "    done"
   ]
  },
  {
   "cell_type": "raw",
   "id": "4f8646bb-665a-4fbc-87fd-dd6bdd282463",
   "metadata": {},
   "source": [
    "FB12_R1.fastq.gz_trimming_report.txt:Reads written (passing filters):    22,690,112 (100.0%)\n",
    "FB12_R2.fastq.gz_trimming_report.txt:Reads written (passing filters):    22,690,112 (100.0%)\n",
    "FB13_R1.fastq.gz_trimming_report.txt:Reads written (passing filters):    22,540,057 (100.0%)\n",
    "FB13_R2.fastq.gz_trimming_report.txt:Reads written (passing filters):    22,540,057 (100.0%)\n",
    "FB4_R1.fastq.gz_trimming_report.txt:Reads written (passing filters):    22,024,992 (100.0%)\n",
    "FB4_R2.fastq.gz_trimming_report.txt:Reads written (passing filters):    22,024,992 (100.0%)\n",
    "FT11_R1.fastq.gz_trimming_report.txt:Reads written (passing filters):    23,139,626 (100.0%)\n",
    "FT11_R2.fastq.gz_trimming_report.txt:Reads written (passing filters):    23,139,626 (100.0%)\n",
    "FT12_R1.fastq.gz_trimming_report.txt:Reads written (passing filters):    20,848,710 (100.0%)\n",
    "FT12_R2.fastq.gz_trimming_report.txt:Reads written (passing filters):    20,848,710 (100.0%)\n",
    "FT13_R1.fastq.gz_trimming_report.txt:Reads written (passing filters):    20,861,602 (100.0%)\n",
    "FT13_R2.fastq.gz_trimming_report.txt:Reads written (passing filters):    20,861,602 (100.0%)\n",
    "FTA11_R1.fastq.gz_trimming_report.txt:Reads written (passing filters):    16,824,961 (100.0%)\n",
    "FTA11_R2.fastq.gz_trimming_report.txt:Reads written (passing filters):    16,824,961 (100.0%)\n",
    "FTA12_R1.fastq.gz_trimming_report.txt:Reads written (passing filters):    20,494,299 (100.0%)\n",
    "FTA12_R2.fastq.gz_trimming_report.txt:Reads written (passing filters):    20,494,299 (100.0%)\n",
    "FTA13_R1.fastq.gz_trimming_report.txt:Reads written (passing filters):    21,947,719 (100.0%)\n",
    "FTA13_R2.fastq.gz_trimming_report.txt:Reads written (passing filters):    21,947,719 (100.0%)\n",
    "MB11_R1.fastq.gz_trimming_report.txt:Reads written (passing filters):    22,223,067 (100.0%)\n",
    "MB11_R2.fastq.gz_trimming_report.txt:Reads written (passing filters):    22,223,067 (100.0%)\n",
    "MB12_R1.fastq.gz_trimming_report.txt:Reads written (passing filters):    22,705,685 (100.0%)\n",
    "MB12_R2.fastq.gz_trimming_report.txt:Reads written (passing filters):    22,705,685 (100.0%)\n",
    "MB13_R1.fastq.gz_trimming_report.txt:Reads written (passing filters):    20,379,780 (100.0%)\n",
    "MB13_R2.fastq.gz_trimming_report.txt:Reads written (passing filters):    20,379,780 (100.0%)\n",
    "MT11_R1.fastq.gz_trimming_report.txt:Reads written (passing filters):    23,706,529 (100.0%)\n",
    "MT11_R2.fastq.gz_trimming_report.txt:Reads written (passing filters):    23,706,529 (100.0%)\n",
    "MT12_R1.fastq.gz_trimming_report.txt:Reads written (passing filters):    25,160,683 (100.0%)\n",
    "MT12_R2.fastq.gz_trimming_report.txt:Reads written (passing filters):    25,160,683 (100.0%)\n",
    "MT13_R1.fastq.gz_trimming_report.txt:Reads written (passing filters):    26,489,579 (100.0%)\n",
    "MT13_R2.fastq.gz_trimming_report.txt:Reads written (passing filters):    26,489,579 (100.0%)\n",
    "MTA11_R1.fastq.gz_trimming_report.txt:Reads written (passing filters):    22,371,196 (100.0%)\n",
    "MTA11_R2.fastq.gz_trimming_report.txt:Reads written (passing filters):    22,371,196 (100.0%)\n",
    "MTA12_R1.fastq.gz_trimming_report.txt:Reads written (passing filters):    23,575,270 (100.0%)\n",
    "MTA12_R2.fastq.gz_trimming_report.txt:Reads written (passing filters):    23,575,270 (100.0%)\n",
    "MTA13_R1.fastq.gz_trimming_report.txt:Reads written (passing filters):    31,545,710 (100.0%)\n",
    "MTA13_R2.fastq.gz_trimming_report.txt:Reads written (passing filters):    31,545,710 (100.0%)"
   ]
  },
  {
   "cell_type": "markdown",
   "id": "ebe4ac92-501d-4f11-8bd9-b840c7218d9b",
   "metadata": {},
   "source": [
    "### 1d. Run FastQC\n"
   ]
  },
  {
   "cell_type": "code",
   "execution_count": null,
   "id": "189c9716-c9e7-411c-ab77-06274f3979f6",
   "metadata": {},
   "outputs": [],
   "source": [
    "%%bash\n",
    "cd /data/Glon_RNAseq/fastq_trim\n",
    "/data/Glon_RNAseq/software/FastQC/fastqc -o ../qc_postcut -t 30 *gz"
   ]
  },
  {
   "cell_type": "markdown",
   "id": "02a00c61-fc60-4f01-a8da-c526fb4366f6",
   "metadata": {},
   "source": [
    "### 1d. Run HISAT2!"
   ]
  },
  {
   "cell_type": "code",
   "execution_count": null,
   "id": "513d84c0-38d4-44a0-af88-2baf00b12706",
   "metadata": {},
   "outputs": [],
   "source": [
    "%%bash\n",
    "cd /data/Glon_RNAseq/genomes\n",
    "# build ht2 genome index\n",
    "/data/Glon_RNAseq/software/hisat2-2.2.1/hisat2-build -p 30 Glon_curated.fasta Glon"
   ]
  },
  {
   "cell_type": "code",
   "execution_count": null,
   "id": "92db9fc8-1bd6-4462-b371-96c468d34e21",
   "metadata": {},
   "outputs": [],
   "source": [
    "%%bash\n",
    "cd /data/Glon_RNAseq/fastq_trim\n",
    "\n",
    "#!/bin/bash\n",
    "for fileR1 in *_R1_*gz; do\n",
    "  # $file is the absolute path\n",
    "  fileR2=$(echo $fileR1 | sed 's/R1_val_1/R2_val_2/')\n",
    "  sampleR1=$(basename $fileR1 _R1_val_1.fq.gz)\n",
    "  # print the results to stdout\n",
    "  echo \"$sampleR1,$fileR1\"\n",
    "  # here, the --dta flag is necessary to ensure that HISAT2 output can be used in the BRAKER3 pipeline.\n",
    "  /data/Glon_RNAseq/software/hisat2-2.2.1/hisat2 --dta -q -p 20 -x /data/Glon_RNAseq/genomes/Glon -1 ${fileR1} -2 ${fileR2} \\\n",
    "    -S /data/Glon_RNAseq/bam/${sampleR1}.sam &> /data/Glon_RNAseq/bam/${sampleR1}_summary.txt\n",
    "  /opt/samtools-1.17/samtools view -b /data/Glon_RNAseq/bam/${sampleR1}.sam  > /data/Glon_RNAseq/bam/${sampleR1}.bam\n",
    "  rm /data/Glon_RNAseq/bam/${sampleR1}.sam\n",
    "  done\n"
   ]
  },
  {
   "cell_type": "raw",
   "id": "6edaba64-067e-4e5a-ac0a-937d17eef592",
   "metadata": {},
   "source": [
    "FB12_summary.txt:81.27% overall alignment rate\n",
    "FB13_summary.txt:75.43% overall alignment rate\n",
    "FB4_summary.txt:80.84% overall alignment rate\n",
    "FT11_summary.txt:53.80% overall alignment rate\n",
    "FT12_summary.txt:82.95% overall alignment rate\n",
    "FT13_summary.txt:62.90% overall alignment rate\n",
    "FTA11_summary.txt:62.56% overall alignment rate\n",
    "FTA12_summary.txt:85.86% overall alignment rate\n",
    "FTA13_summary.txt:69.98% overall alignment rate\n",
    "MB11_summary.txt:79.53% overall alignment rate\n",
    "MB12_summary.txt:78.23% overall alignment rate\n",
    "MB13_summary.txt:83.31% overall alignment rate\n",
    "MT11_summary.txt:55.56% overall alignment rate\n",
    "MT12_summary.txt:59.24% overall alignment rate\n",
    "MT13_summary.txt:59.03% overall alignment rate\n",
    "MTA11_summary.txt:64.61% overall alignment rate\n",
    "MTA12_summary.txt:69.10% overall alignment rate\n",
    "MTA13_summary.txt:87.86% overall alignment rate"
   ]
  },
  {
   "cell_type": "markdown",
   "id": "546a42cc-e523-4732-b700-2cb38c874ab7",
   "metadata": {},
   "source": [
    "## 2. Prepare protein evidence."
   ]
  },
  {
   "cell_type": "markdown",
   "id": "7f6e34c8-e518-49d9-aeb1-6a23a86b4298",
   "metadata": {},
   "source": [
    "As for the BRAKER3 team's suggestion, the base protein set for this annotation was a set of 2.1Gb Arthropoda proteins from OrthoDB."
   ]
  },
  {
   "cell_type": "markdown",
   "id": "e02cab81-40f9-4d3a-a407-d9031d210afa",
   "metadata": {},
   "source": [
    "https://bioinf.uni-greifswald.de/bioinf/partitioned_odb11/"
   ]
  },
  {
   "cell_type": "raw",
   "id": "e9fc8e4b-7719-4734-bc8d-d7d83e8d9a47",
   "metadata": {},
   "source": [
    "Then we supplemented the database with grylli proteins from NCBI:"
   ]
  },
  {
   "cell_type": "markdown",
   "id": "23215cb0-2d90-4f2c-a97e-7d6cb1ec2e48",
   "metadata": {},
   "source": [
    "- [Gryllus bimaculatus *(25687)](https://www.ncbi.nlm.nih.gov/protein?term=txid6998%5BOrganism%5D#)\n",
    "(((txid6998[Organism]) AND \"Gryllus bimaculatus\"[porgn:__txid6999])) AND PRJDB10609 (*PRJDB10609 is a BioProject)*\n",
    "- [Gryllus pennsylvanicus x Gryllus firmus *(677)*](https://www.ncbi.nlm.nih.gov/protein?term=txid6998%5BOrganism%5D#)\n",
    "- [Gryllus veletis *(98)](https://www.ncbi.nlm.nih.gov/protein?term=txid6998%5BOrganism%5D#)* (txid6998[Organism]) AND \"Gryllus veletis\"[porgn:__txid51040]\n",
    "- [All other taxa *(185)](https://www.ncbi.nlm.nih.gov/protein?term=txid6998%5BOrganism%5D#)* (txid6998[Organism]) NOT \"Gryllus veletis\"[porgn:__txid51040] NOT \"Gryllus pennsylvanicus\"[porgn:__txid51074] NOT \"Gryllus firmus\"[porgn:__txid7000] NOT \"Gryllus pennsylvanicus x Gryllus firmus\"[porgn:__txid658220] NOT \"Gryllus bimaculatus\"[porgn:__txid6999]"
   ]
  },
  {
   "cell_type": "code",
   "execution_count": null,
   "id": "b29a4f84-6917-4c52-819a-d844b89aa14f",
   "metadata": {},
   "outputs": [],
   "source": [
    "%%bash\n",
    "\n",
    "cd /data/Glon_RNAseq/protein/supplementary # folder with downloaded NCBI sequences\n",
    "cat *fasta > Gryllus_proteins.fasta"
   ]
  },
  {
   "cell_type": "raw",
   "id": "de88c8ad-c7cf-41f9-912f-23e5c9103db0",
   "metadata": {},
   "source": [
    "Before adding NCBI proteins to the OrthoDB database we also made sure that FASTA headers of the proteins don’t cause problems inside Augustus (as they tend to do that). To achieve a similar format to that of OrthoDB, we ran the following:"
   ]
  },
  {
   "cell_type": "code",
   "execution_count": 27,
   "id": "c06b190f-d7ab-4ba1-ade4-c8130f3dc960",
   "metadata": {},
   "outputs": [],
   "source": [
    "def replace_fasta_headers(file_path):\n",
    "    with open(file_path, 'r') as file:\n",
    "        lines = file.readlines()\n",
    "\n",
    "    with open(file_path, 'w') as file:\n",
    "        for line in lines:\n",
    "            if line.strip():  # check if line is not empty\n",
    "                if line.startswith('>'):\n",
    "                    header = line.strip().split()[0][1:]  # extract the first word without '>'\n",
    "                    file.write(f'>{header} {header}\\n')\n",
    "                else:\n",
    "                    file.write(line)\n",
    "\n",
    "\n",
    "file_path = '/data/Glon_RNAseq/protein/Gryllus_proteins.fasta'\n",
    "replace_fasta_headers(file_path)"
   ]
  },
  {
   "cell_type": "markdown",
   "id": "57341d68-16a1-47eb-b6cb-5a15e4bf5808",
   "metadata": {},
   "source": [
    "Join the protein files together"
   ]
  },
  {
   "cell_type": "code",
   "execution_count": 28,
   "id": "a75e88bd-017d-43ff-8fe6-d053566176b7",
   "metadata": {},
   "outputs": [],
   "source": [
    "%%bash\n",
    "cd /data/Glon_RNAseq/protein\n",
    "cat Arthropoda.fa Gryllus_proteins.fasta > proteinDB.fasta"
   ]
  },
  {
   "cell_type": "markdown",
   "id": "002de792-93e7-423c-957d-af3df9db0597",
   "metadata": {
    "tags": []
   },
   "source": [
    "## 3. Mask the genome.\n"
   ]
  },
  {
   "cell_type": "markdown",
   "id": "3ffce8fc-ec84-4c9e-896a-5773383b4293",
   "metadata": {},
   "source": [
    "### 1a. Using the RepBase library "
   ]
  },
  {
   "cell_type": "code",
   "execution_count": null,
   "id": "052fe752-e845-4195-a452-11467ab03f3b",
   "metadata": {},
   "outputs": [],
   "source": [
    "# run on 10.10.4.125\n",
    "!/usr/share/RepeatMasker/RepeatMasker -pa 20 -small -lib \\\n",
    "/home/cluster_user/2.Glon/RepeatMasking/libraries/RB.lib.fa /home/cluster_user/2.Glon/RepeatMasking/Glon_curated.fasta -gff \\\n",
    "-dir /home/cluster_user/2.Glon/RepeatMasking/soft_repbase/"
   ]
  },
  {
   "cell_type": "markdown",
   "id": "43764d8b-8b01-4f34-9f5c-f3aa01240d30",
   "metadata": {},
   "source": [
    "### 1b. Using Gbim repeat library:"
   ]
  },
  {
   "cell_type": "code",
   "execution_count": null,
   "id": "421f25c9-44ac-44a7-8ffb-a30e55ead597",
   "metadata": {},
   "outputs": [],
   "source": [
    "# run on 10.10.4.125\n",
    "!/usr/share/RepeatMasker/RepeatMasker -pa 20 -small -lib \\\n",
    "/home/cluster_user/2.Glon/RepeatMasking/libraries/Gbi_Rep_CombinedLibrary.lib.minlen50.nr.classified.filtered.fa \\\n",
    "/home/cluster_user/2.Glon/RepeatMasking/Glon_curated.fasta -gff \\\n",
    "-dir /home/cluster_user/2.Glon/RepeatMasking/soft_gbimlib/"
   ]
  },
  {
   "cell_type": "markdown",
   "id": "d68f7c7a-39df-4c94-ad1b-dc0dd5e1e11a",
   "metadata": {},
   "source": [
    "### 2. Check masking with BUSCO"
   ]
  },
  {
   "cell_type": "code",
   "execution_count": 41,
   "id": "c72215ed-8573-4d96-a939-4fd737c29021",
   "metadata": {},
   "outputs": [],
   "source": [
    "%%bash\n",
    "cd /data/Glon_RNAseq/\n",
    "docker pull ezlabgva/busco:v5.5.0_cv1\n",
    "docker run -u $(id -u) -v $(pwd):/busco_wd ezlabgva/busco:v5.5.0_cv1"
   ]
  },
  {
   "cell_type": "code",
   "execution_count": null,
   "id": "4cea94d8-6398-4c19-8771-9059941b96fe",
   "metadata": {},
   "outputs": [],
   "source": [
    "%%bash\n",
    "cd /data/Glon_RNAseq/\n",
    "\n",
    "#docker run -u $(id -u) -v $(pwd):/busco_wd ezlabgva/busco:v5.5.0_cv1 busco -i /busco_wd/genomes/Glon_curated.fasta -o geno_a --out_path /busco_wd/buscos -m geno --augustus -l arthropoda -c 35 \n",
    "#docker run -u $(id -u) -v $(pwd):/busco_wd ezlabgva/busco:v5.5.0_cv1 busco -i /busco_wd/genomes/Glon_curated.fasta -o geno_i --out_path /busco_wd/buscos -m geno --augustus -l insecta -c 35 \n",
    "docker run -u $(id -u) -v $(pwd):/busco_wd ezlabgva/busco:v5.5.0_cv1 busco -i /busco_wd/masking/soft_repbase/ -o rep_a --out_path /busco_wd/buscos -m geno --augustus -l arthropoda -c 35 \n",
    "docker run -u $(id -u) -v $(pwd):/busco_wd ezlabgva/busco:v5.5.0_cv1 busco -i /busco_wd/masking/soft_repbase/ -o rep_i --out_path /busco_wd/buscos -m geno --augustus -l insecta -c 35 \n",
    "docker run -u $(id -u) -v $(pwd):/busco_wd ezlabgva/busco:v5.5.0_cv1 busco -i /busco_wd/masking/soft_gbimlib/ -o gbim_a --out_path /busco_wd/buscos -m geno --augustus -l arthropoda -c 35 \n",
    "docker run -u $(id -u) -v $(pwd):/busco_wd ezlabgva/busco:v5.5.0_cv1 busco -i /busco_wd/masking/soft_gbimlib/ -o gbim_i --out_path /busco_wd/buscos -m geno --augustus -l insecta -c 35 "
   ]
  },
  {
   "cell_type": "markdown",
   "id": "38c9f038-c1f0-40de-9be5-28bd4c2d5444",
   "metadata": {},
   "source": [
    "## 4. Run BRAKER3"
   ]
  },
  {
   "cell_type": "markdown",
   "id": "059f914c-f4cd-44d9-944b-f5258ff7c6bc",
   "metadata": {},
   "source": [
    "### 1. BRAKER3 run with Docker"
   ]
  },
  {
   "cell_type": "code",
   "execution_count": null,
   "id": "ca8512a6-a3d7-4765-be75-bca4e5aa53c2",
   "metadata": {},
   "outputs": [],
   "source": [
    "%%bash\n",
    "\n",
    "sudo docker run --user 1000:100 --rm -it \\\n",
    "    -v /home/cluster_user/data/Glon_RNAseq:/home/jovyan/ \\\n",
    "    teambraker/braker3:latest bash -c \"braker.pl --genome=/home/jovyan/masking//Glon_soft_masked.fasta # <- \\ \n",
    "    --workingdir=/home/jovyan/annotation --threads=40 --gff3 --prot_seq=/home/jovyan/protein/Gryllus_proteins.fasta \\\n",
    "    --bam=/home/jovyan/bam/FB12.bam,/home/jovyan/bam/FB13.bam,/home/jovyan/bam/FB4.bam,/home/jovyan/bam/FT11.bam,/home/jovyan/bam/FT12.bam,/home/jovyan/bam/FT13.bam,/home/jovyan/bam/FTA11.bam,/home/jovyan/bam/FTA12.bam,/home/jovyan/bam/FTA13.bam,/home/jovyan/bam/MB11.bam,/home/jovyan/bam/MB12.bam,/home/jovyan/bam/MB13.bam,/home/jovyan/bam/MT11.bam,/home/jovyan/bam/MT12.bam,/home/jovyan/bam/MT13.bam,/home/jovyan/bam/MTA11.bam,/home/jovyan/bam/MTA12.bam,/home/jovyan/bam/MTA13.bam \\\n",
    "    &> /home/jovyan/annotation/run.log\"\n"
   ]
  },
  {
   "cell_type": "markdown",
   "id": "b16f2989-4a18-47ac-b8e9-7ba2c66a5746",
   "metadata": {},
   "source": [
    "### 2. Check Annotation's BUSCO score"
   ]
  },
  {
   "cell_type": "code",
   "execution_count": null,
   "id": "7e7d9a02-c64c-422a-9503-35724c5155f1",
   "metadata": {},
   "outputs": [],
   "source": [
    "gffread"
   ]
  },
  {
   "cell_type": "code",
   "execution_count": null,
   "id": "65400a73-63a0-4ddd-8f22-475f05c90158",
   "metadata": {},
   "outputs": [],
   "source": [
    "docker run -u $(id -u) -v $(pwd):/busco_wd ezlabgva/busco:v5.5.0_cv1 busco -i /busco_wd/annotation -o prot_a --out_path /busco_wd/buscos -m protein --augustus -l arthropoda -c 35 \n",
    "docker run -u $(id -u) -v $(pwd):/busco_wd ezlabgva/busco:v5.5.0_cv1 busco -i /busco_wd/annotation -o prot_i --out_path /busco_wd/buscos -m protein --augustus -l insecta -c 35"
   ]
  },
  {
   "cell_type": "markdown",
   "id": "f4726597-53db-4b6e-9314-051460d4d649",
   "metadata": {},
   "source": [
    "## 5. BLAST functional annotation"
   ]
  },
  {
   "cell_type": "markdown",
   "id": "d67a5687-21e8-41b4-a9b4-18c5a428673d",
   "metadata": {},
   "source": [
    "We first started with BLASTing against Swissprot Insecta, then continued with TrEMBL Insecta and tried to get a BLAST hit for the third time with Swissprot without taxonomy filtering."
   ]
  },
  {
   "cell_type": "code",
   "execution_count": null,
   "id": "59a72202-a6ee-413d-88a2-9abc56842fe4",
   "metadata": {},
   "outputs": [],
   "source": [
    "# Swissprot Insecta  9690 proteins\n",
    "SI = \"/home/cluster_user/functional2/libraries/revieved_insecta/revieved_swisssecta.fasta\"\n",
    "# TrEMBL Insecta 5683201 proteins\n",
    "TI = \"/home/cluster_user/functional2/libraries/unrevieved_insecta/unrevieved_insecta.fasta\"\n",
    "# Swissprot, no taxononomy filtering 569793 proteins\n",
    "SA = \"/home/cluster_user/functional2/libraries/revieved_all/uniprot_sprot.fasta\""
   ]
  },
  {
   "cell_type": "code",
   "execution_count": null,
   "id": "19f06a71-f46d-4950-9b8c-0bdb98099fce",
   "metadata": {},
   "outputs": [],
   "source": [
    "!makeblastdb -in $SI -dbtype prot -input_type fasta\n",
    "!makeblastdb -in $TI -dbtype prot -input_type fasta\n",
    "!makeblastdb -in $SA -dbtype prot -input_type fasta"
   ]
  },
  {
   "cell_type": "code",
   "execution_count": null,
   "id": "5cd52afc-ebf4-4ae9-ac80-83fa86b15fcf",
   "metadata": {},
   "outputs": [],
   "source": [
    "query = \"/data/Glon_RNAseq\""
   ]
  },
  {
   "cell_type": "code",
   "execution_count": null,
   "id": "ab60f679-018e-4f50-aa20-7db9950d58b7",
   "metadata": {},
   "outputs": [],
   "source": [
    "!blastp -num_threads 20 -query $query -db $SI -outfmt '6 std stitle' -out /home/cluster_user/functional2/libraries/revieved_insecta/SI_results.blastp -evalue 1e-6 \\\n",
    "-max_hsps 1 -max_target_seqs 1 "
   ]
  },
  {
   "cell_type": "code",
   "execution_count": null,
   "id": "dbc847a1-5911-4c88-a1af-7c24dd016da7",
   "metadata": {},
   "outputs": [],
   "source": [
    "!blastp -num_threads 20 -query $query -db $TI -outfmt '6 std stitle' -out /home/cluster_user/functional2/libraries/unrevieved_insecta/UI_results.blastp -evalue 1e-6 \\\n",
    "-max_hsps 1 -max_target_seqs 1 "
   ]
  },
  {
   "cell_type": "code",
   "execution_count": null,
   "id": "82ee6378-423f-4c8f-a88d-40a1a890c04e",
   "metadata": {},
   "outputs": [],
   "source": [
    "!blastp -num_threads 20 -query $query -db $SA -outfmt '6 std stitle' -out /home/cluster_user/functional2/libraries/revieved_all/SA_results.blastp -evalue 1e-6 \\\n",
    "-max_hsps 1 -max_target_seqs 1"
   ]
  },
  {
   "cell_type": "code",
   "execution_count": null,
   "id": "ee079102-4042-4c2a-8779-abc6c42dbb43",
   "metadata": {},
   "outputs": [],
   "source": [
    "results_A = {}\n",
    "results_B = {}\n",
    "results_C = {}\n",
    "\n",
    "with open(\"/home/cluster_user/functional2/libraries/revieved_insecta/SI_results.blastp\", \"r\") as file_A:\n",
    "    for line in file_A:\n",
    "        fields = line.strip().split(\"\\t\")\n",
    "        results_A[fields[0]] = line\n",
    "\n",
    "with open(\"/home/cluster_user/functional2/libraries/unrevieved_insecta/UI_results.blastp\", \"r\") as file_B:\n",
    "    for line in file_B:\n",
    "        fields = line.strip().split(\"\\t\")\n",
    "        # check if the protein ID already exists in A results, if not, add it\n",
    "        if fields[0] not in results_A:\n",
    "            results_B[fields[0]] = line\n",
    "\n",
    "with open(\"/home/cluster_user/functional2/libraries/revieved_all/SA_results.blastp\", \"r\") as file_C:\n",
    "    for line in file_C:\n",
    "        fields = line.strip().split(\"\\t\")\n",
    "        # check if the protein ID already exists in A or B results, if not, add it\n",
    "        if fields[0] not in results_A and fields[0] not in results_B:\n",
    "            results_C[fields[0]] = line"
   ]
  },
  {
   "cell_type": "code",
   "execution_count": null,
   "id": "e1e9d141-da1a-4dd3-8543-734ca5db89ba",
   "metadata": {},
   "outputs": [],
   "source": [
    "print(len(results_A)) #9382\n",
    "print(len(results_B)) #6k + \n",
    "print(len(results_C)) #10"
   ]
  },
  {
   "cell_type": "code",
   "execution_count": null,
   "id": "ea2e963f-5520-484e-9f3b-6cc9d9ab0716",
   "metadata": {},
   "outputs": [],
   "source": [
    "merged_results = {**results_A, **results_B, **results_C}\n",
    "\n",
    "# write the merged results to an output file\n",
    "with open(\"merged_results.txt\", \"w\") as output_file:\n",
    "    for result in merged_results.values():\n",
    "        output_file.write(result)"
   ]
  },
  {
   "cell_type": "markdown",
   "id": "b9ba4c8d-432f-479a-b422-c021629757fc",
   "metadata": {},
   "source": [
    "## 6. InterProScan and Funannotate functional annotaion"
   ]
  },
  {
   "cell_type": "code",
   "execution_count": null,
   "id": "f8be1985-2a55-4de9-b846-a08829ead83e",
   "metadata": {},
   "outputs": [],
   "source": []
  }
 ],
 "metadata": {
  "kernelspec": {
   "display_name": "Python 3 (ipykernel)",
   "language": "python",
   "name": "python3"
  },
  "language_info": {
   "codemirror_mode": {
    "name": "ipython",
    "version": 3
   },
   "file_extension": ".py",
   "mimetype": "text/x-python",
   "name": "python",
   "nbconvert_exporter": "python",
   "pygments_lexer": "ipython3",
   "version": "3.8.10"
  }
 },
 "nbformat": 4,
 "nbformat_minor": 5
}
